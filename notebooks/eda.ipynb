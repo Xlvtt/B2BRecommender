{
 "cells": [
  {
   "cell_type": "markdown",
   "source": [
    "### Основные импорты"
   ],
   "metadata": {
    "collapsed": false
   },
   "id": "6ab4e713b9d46b62"
  },
  {
   "cell_type": "code",
   "execution_count": 106,
   "id": "initial_id",
   "metadata": {
    "collapsed": true,
    "ExecuteTime": {
     "end_time": "2025-03-30T16:53:08.620255Z",
     "start_time": "2025-03-30T16:53:08.617437Z"
    }
   },
   "outputs": [],
   "source": [
    "import pandas as pd\n",
    "import seaborn as sns\n",
    "import matplotlib.pyplot as plt\n",
    "import pathlib"
   ]
  },
  {
   "cell_type": "markdown",
   "source": [
    "### Загрузка данных"
   ],
   "metadata": {
    "collapsed": false
   },
   "id": "4ebdb8665ce4b1d"
  },
  {
   "cell_type": "code",
   "outputs": [],
   "source": [
    "data_path = pathlib.Path(\"../data/\")\n",
    "\n",
    "offers = pd.read_csv(data_path / \"d_offer.csv\")\n",
    "lots = pd.read_csv(data_path / \"d_lot.csv\")\n",
    "lots_prods = pd.read_csv(data_path / \"d_lot_prod.csv\")\n",
    "persons = pd.read_csv(data_path / \"d_person.csv\")\n",
    "\n",
    "df_train = pd.read_csv(data_path / \"all_ids_train.csv\")\n",
    "df_test = pd.read_csv(data_path / \"all_ids_test.csv\")"
   ],
   "metadata": {
    "collapsed": false,
    "ExecuteTime": {
     "end_time": "2025-03-30T16:22:10.582248Z",
     "start_time": "2025-03-30T16:22:09.677007Z"
    }
   },
   "id": "e7670ee387896741",
   "execution_count": 98
  },
  {
   "cell_type": "markdown",
   "source": [
    "Сджойним данные по лотам и предложениям поставщиков:"
   ],
   "metadata": {
    "collapsed": false
   },
   "id": "2897ed3523b94287"
  },
  {
   "cell_type": "code",
   "outputs": [],
   "source": [
    "def get_merged_data(df):\n",
    "    merged_df = pd.merge(df, offers, left_on=[\"OFFER_ID\", \"LOT_ID\"], right_on=[\"OFFER_ID\", \"LOT_ID\"], how=\"left\") # джойним к логам офферы\n",
    "    merged_df = pd.merge(merged_df, persons, left_on=\"OFFER_PERSON_ID\", right_on=\"PERSON_ID\", how=\"left\").drop(\"PERSON_ID\", axis=1)\n",
    "    merged_df = pd.merge(merged_df, persons, left_on=\"BUYER_PERSON_ID\", right_on=\"PERSON_ID\", suffixes=(\"_OFFER\", \"_BUYER\")).drop(\"PERSON_ID\", axis=1) # джойним к поставщикам и заказчикам их города\n",
    "    \n",
    "    merged_df = pd.merge(merged_df, lots, on=\"LOT_ID\", how=\"left\") # джойним лоты\n",
    "    # merged_df = pd.merge(merged_df, lots_prods, on=\"LOT_ID\", how=\"left\") # джойним продукты в лотах, там целый список с количествами\n",
    "    return merged_df"
   ],
   "metadata": {
    "collapsed": false,
    "ExecuteTime": {
     "end_time": "2025-03-30T16:22:11.079884Z",
     "start_time": "2025-03-30T16:22:11.075544Z"
    }
   },
   "id": "f80faa603c432465",
   "execution_count": 99
  },
  {
   "cell_type": "code",
   "outputs": [
    {
     "data": {
      "text/plain": "   LOT_ID  OFFER_ID  OFFER_PERSON_ID  BUYER_PERSON_ID  IS_SELLER  \\\n0       1         1               11              954          1   \n1       1         2             5843              954          0   \n2       1         3             1093              954          0   \n3       1         4            21368              954          0   \n4       1         5            21358              954          0   \n\n   CANCELLED_FLAG  INCONSISTENT_FLAG  UNCONSIDERED_FLAG  REJECT_FLAG  \\\n0               0                  0                  0            0   \n1               0                  0                  0            0   \n2               0                  0                  0            0   \n3               0                  0                  0            0   \n4               0                  0                  0            0   \n\n   CUSTOMER_REFUSAL_FLAG  AU_FO_PRICE  AU_STEPS_COUNT  OFFERED_PRICE_RUBLES  \\\n0                      0    165251.62             1.0             165251.62   \n1                      0    330801.28             1.0             330801.28   \n2                      0    167163.77             1.0             167163.77   \n3                      0    183566.01             1.0             183566.01   \n4                      0    204599.62             1.0             204599.62   \n\n  FINAL_PARENT_OKATO_NAME_OFFER FINAL_PARENT_OKATO_NAME_BUYER  \\\n0            Тамбовская область          Владимирская область   \n1          Владимирская область          Владимирская область   \n2             Рязанская область          Владимирская область   \n3                        Москва          Владимирская область   \n4                        Москва          Владимирская область   \n\n                                            LOT_NAME  \\\n0  Поставка лекарственных средств (Меропенем, цеф...   \n1  Поставка лекарственных средств (Меропенем, цеф...   \n2  Поставка лекарственных средств (Меропенем, цеф...   \n3  Поставка лекарственных средств (Меропенем, цеф...   \n4  Поставка лекарственных средств (Меропенем, цеф...   \n\n   TOTAL_START_PRICE_RUBLES  TOTAL_O_G_AMOUNT_RUBLES  TOTAL_C_G_AMOUNT_RUBLES  \n0                 382429.25                  3824.29                 38242.93  \n1                 382429.25                  3824.29                 38242.93  \n2                 382429.25                  3824.29                 38242.93  \n3                 382429.25                  3824.29                 38242.93  \n4                 382429.25                  3824.29                 38242.93  ",
      "text/html": "<div>\n<style scoped>\n    .dataframe tbody tr th:only-of-type {\n        vertical-align: middle;\n    }\n\n    .dataframe tbody tr th {\n        vertical-align: top;\n    }\n\n    .dataframe thead th {\n        text-align: right;\n    }\n</style>\n<table border=\"1\" class=\"dataframe\">\n  <thead>\n    <tr style=\"text-align: right;\">\n      <th></th>\n      <th>LOT_ID</th>\n      <th>OFFER_ID</th>\n      <th>OFFER_PERSON_ID</th>\n      <th>BUYER_PERSON_ID</th>\n      <th>IS_SELLER</th>\n      <th>CANCELLED_FLAG</th>\n      <th>INCONSISTENT_FLAG</th>\n      <th>UNCONSIDERED_FLAG</th>\n      <th>REJECT_FLAG</th>\n      <th>CUSTOMER_REFUSAL_FLAG</th>\n      <th>AU_FO_PRICE</th>\n      <th>AU_STEPS_COUNT</th>\n      <th>OFFERED_PRICE_RUBLES</th>\n      <th>FINAL_PARENT_OKATO_NAME_OFFER</th>\n      <th>FINAL_PARENT_OKATO_NAME_BUYER</th>\n      <th>LOT_NAME</th>\n      <th>TOTAL_START_PRICE_RUBLES</th>\n      <th>TOTAL_O_G_AMOUNT_RUBLES</th>\n      <th>TOTAL_C_G_AMOUNT_RUBLES</th>\n    </tr>\n  </thead>\n  <tbody>\n    <tr>\n      <th>0</th>\n      <td>1</td>\n      <td>1</td>\n      <td>11</td>\n      <td>954</td>\n      <td>1</td>\n      <td>0</td>\n      <td>0</td>\n      <td>0</td>\n      <td>0</td>\n      <td>0</td>\n      <td>165251.62</td>\n      <td>1.0</td>\n      <td>165251.62</td>\n      <td>Тамбовская область</td>\n      <td>Владимирская область</td>\n      <td>Поставка лекарственных средств (Меропенем, цеф...</td>\n      <td>382429.25</td>\n      <td>3824.29</td>\n      <td>38242.93</td>\n    </tr>\n    <tr>\n      <th>1</th>\n      <td>1</td>\n      <td>2</td>\n      <td>5843</td>\n      <td>954</td>\n      <td>0</td>\n      <td>0</td>\n      <td>0</td>\n      <td>0</td>\n      <td>0</td>\n      <td>0</td>\n      <td>330801.28</td>\n      <td>1.0</td>\n      <td>330801.28</td>\n      <td>Владимирская область</td>\n      <td>Владимирская область</td>\n      <td>Поставка лекарственных средств (Меропенем, цеф...</td>\n      <td>382429.25</td>\n      <td>3824.29</td>\n      <td>38242.93</td>\n    </tr>\n    <tr>\n      <th>2</th>\n      <td>1</td>\n      <td>3</td>\n      <td>1093</td>\n      <td>954</td>\n      <td>0</td>\n      <td>0</td>\n      <td>0</td>\n      <td>0</td>\n      <td>0</td>\n      <td>0</td>\n      <td>167163.77</td>\n      <td>1.0</td>\n      <td>167163.77</td>\n      <td>Рязанская область</td>\n      <td>Владимирская область</td>\n      <td>Поставка лекарственных средств (Меропенем, цеф...</td>\n      <td>382429.25</td>\n      <td>3824.29</td>\n      <td>38242.93</td>\n    </tr>\n    <tr>\n      <th>3</th>\n      <td>1</td>\n      <td>4</td>\n      <td>21368</td>\n      <td>954</td>\n      <td>0</td>\n      <td>0</td>\n      <td>0</td>\n      <td>0</td>\n      <td>0</td>\n      <td>0</td>\n      <td>183566.01</td>\n      <td>1.0</td>\n      <td>183566.01</td>\n      <td>Москва</td>\n      <td>Владимирская область</td>\n      <td>Поставка лекарственных средств (Меропенем, цеф...</td>\n      <td>382429.25</td>\n      <td>3824.29</td>\n      <td>38242.93</td>\n    </tr>\n    <tr>\n      <th>4</th>\n      <td>1</td>\n      <td>5</td>\n      <td>21358</td>\n      <td>954</td>\n      <td>0</td>\n      <td>0</td>\n      <td>0</td>\n      <td>0</td>\n      <td>0</td>\n      <td>0</td>\n      <td>204599.62</td>\n      <td>1.0</td>\n      <td>204599.62</td>\n      <td>Москва</td>\n      <td>Владимирская область</td>\n      <td>Поставка лекарственных средств (Меропенем, цеф...</td>\n      <td>382429.25</td>\n      <td>3824.29</td>\n      <td>38242.93</td>\n    </tr>\n  </tbody>\n</table>\n</div>"
     },
     "execution_count": 100,
     "metadata": {},
     "output_type": "execute_result"
    }
   ],
   "source": [
    "merged_train = get_merged_data(df_train)\n",
    "merged_test = get_merged_data(df_test)\n",
    "merged_train.head()"
   ],
   "metadata": {
    "collapsed": false,
    "ExecuteTime": {
     "end_time": "2025-03-30T16:22:11.994315Z",
     "start_time": "2025-03-30T16:22:11.464425Z"
    }
   },
   "id": "52d7fcb369fe6999",
   "execution_count": 100
  },
  {
   "cell_type": "markdown",
   "source": [
    "### Исследование данных"
   ],
   "metadata": {
    "collapsed": false
   },
   "id": "5a0c714a02973d5b"
  },
  {
   "cell_type": "markdown",
   "source": [
    "##### Влияние флагов\n",
    "\n",
    "Посмотрим, какие флаги могут быть выставлены в случае, если исполнен контракт."
   ],
   "metadata": {
    "collapsed": false
   },
   "id": "a3fd512b0fe787f"
  },
  {
   "cell_type": "markdown",
   "source": [
    "В целом количество данных по каждому флагу выглядит следующим образом:\n"
   ],
   "metadata": {
    "collapsed": false
   },
   "id": "311ea018d1a551c6"
  },
  {
   "cell_type": "code",
   "outputs": [
    {
     "name": "stdout",
     "output_type": "stream",
     "text": [
      "CANCELLED_FLAG: 3\n",
      "INCONSISTENT_FLAG: 476\n",
      "UNCONSIDERED_FLAG: 0\n",
      "REJECT_FLAG: 4\n",
      "CUSTOMER_REFUSAL_FLAG: 4\n"
     ]
    }
   ],
   "source": [
    "flags = [\"CANCELLED_FLAG\", \"INCONSISTENT_FLAG\", \"UNCONSIDERED_FLAG\", \"REJECT_FLAG\", \"CUSTOMER_REFUSAL_FLAG\"]\n",
    "for flag in flags:\n",
    "    count = merged_train[(merged_train[\"IS_SELLER\"] == 1) & (merged_train[flag] == 1)][flag].count()\n",
    "    print(f\"{flag}: {count}\")"
   ],
   "metadata": {
    "collapsed": false,
    "ExecuteTime": {
     "end_time": "2025-03-30T15:36:24.259364Z",
     "start_time": "2025-03-30T15:36:24.243735Z"
    }
   },
   "id": "a529cc1da51681d3",
   "execution_count": 72
  },
  {
   "cell_type": "markdown",
   "source": [
    "Удивительным образом есть контракты, исполненные несмотря на то, что заказчик отказался от выполнения"
   ],
   "metadata": {
    "collapsed": false
   },
   "id": "31193f80b8c5bf9d"
  },
  {
   "cell_type": "markdown",
   "source": [
    "##### Корреляции с исполнением заявки\n",
    "\n",
    "Кажется, что мин цена в закупке должна однозначно определять таргет с поправкой на флаге.\n",
    "Проверим этот факт.\n",
    "Также построим heatmap."
   ],
   "metadata": {
    "collapsed": false
   },
   "id": "57d130a6c3c8d01f"
  },
  {
   "cell_type": "markdown",
   "source": [
    "Найдем минимум финальной цены по каждому лоту.\n",
    "Длина выборки - общее число лотов."
   ],
   "metadata": {
    "collapsed": false
   },
   "id": "8ef2708165efbec7"
  },
  {
   "cell_type": "code",
   "outputs": [
    {
     "name": "stdout",
     "output_type": "stream",
     "text": [
      "93465\n"
     ]
    }
   ],
   "source": [
    "lots_best_prices = merged_train[[\"LOT_ID\", \"OFFERED_PRICE_RUBLES\"]].groupby(\"LOT_ID\").min()\n",
    "# нужно выбрать по каждый цене\n",
    "print(len(lots_best_prices))"
   ],
   "metadata": {
    "collapsed": false,
    "ExecuteTime": {
     "end_time": "2025-03-30T15:36:27.546041Z",
     "start_time": "2025-03-30T15:36:27.497008Z"
    }
   },
   "id": "7334f3e9b44213a8",
   "execution_count": 73
  },
  {
   "cell_type": "code",
   "outputs": [
    {
     "data": {
      "text/plain": "103598"
     },
     "execution_count": 80,
     "metadata": {},
     "output_type": "execute_result"
    }
   ],
   "source": [
    "persons_best_prices = pd.merge(merged_train[[\"LOT_ID\", \"IS_SELLER\", \"OFFER_PERSON_ID\", \"BUYER_PERSON_ID\", \"OFFERED_PRICE_RUBLES\"] + flags], lots_best_prices, on=[\"LOT_ID\", \"OFFERED_PRICE_RUBLES\"], how=\"inner\")\n",
    "# выбрали в каждом лоте селлеров с мин ценой\n",
    "len(persons_best_prices)"
   ],
   "metadata": {
    "collapsed": false,
    "ExecuteTime": {
     "end_time": "2025-03-30T15:40:04.506854Z",
     "start_time": "2025-03-30T15:40:04.316055Z"
    }
   },
   "id": "1059abac7ebaac80",
   "execution_count": 80
  },
  {
   "cell_type": "markdown",
   "source": [
    "Мы выбрали несколько селлеров с одинаковой предложенной ценной в кажждом лоте.\n",
    "Понятно, что из них только один победитель. В аукционах это первый сделавший ставку.\n",
    "Посмотрим, сколько к нам попало селлеров с минимальной ценой."
   ],
   "metadata": {
    "collapsed": false
   },
   "id": "3b18a1ff015261e1"
  },
  {
   "cell_type": "code",
   "outputs": [
    {
     "data": {
      "text/plain": "IS_SELLER\n1    87989\n0    15609\nName: count, dtype: int64"
     },
     "execution_count": 76,
     "metadata": {},
     "output_type": "execute_result"
    }
   ],
   "source": [
    "persons_best_prices[\"IS_SELLER\"].value_counts()"
   ],
   "metadata": {
    "collapsed": false,
    "ExecuteTime": {
     "end_time": "2025-03-30T15:36:52.434169Z",
     "start_time": "2025-03-30T15:36:52.424622Z"
    }
   },
   "id": "8b4e8cd23bef1c97",
   "execution_count": 76
  },
  {
   "cell_type": "markdown",
   "source": [
    "Мы видим, что есть 15 тысяч лотов, на которых не выиграли селлеры, предложившие мин цену, они могут быть дубликатами при джойне: просто ребятами, предложившими ту же цену, что и победитель, но позже или ребятами с отказами (установлены флаги)\n",
    "Мы также видим, что не все (только 87 989 из 93 465) лоты закончились выигрышами с мин ценой. \n",
    "Сделаем сначала поправку на флаги."
   ],
   "metadata": {
    "collapsed": false
   },
   "id": "291e8adc2e72e2e"
  },
  {
   "cell_type": "code",
   "outputs": [
    {
     "data": {
      "text/plain": "93007"
     },
     "execution_count": 91,
     "metadata": {},
     "output_type": "execute_result"
    }
   ],
   "source": [
    "from functools import reduce\n",
    "\n",
    "all_frags_filter = reduce(lambda x, y : x & y, map(lambda flag: merged_train[flag] == 0, flags))\n",
    "\n",
    "lots_best_prices_no_flags = merged_train[all_frags_filter][[\"LOT_ID\", \"OFFERED_PRICE_RUBLES\"]].groupby(\"LOT_ID\").min()\n",
    "len(lots_best_prices_no_flags)"
   ],
   "metadata": {
    "collapsed": false,
    "ExecuteTime": {
     "end_time": "2025-03-30T16:05:21.847465Z",
     "start_time": "2025-03-30T16:05:21.760072Z"
    }
   },
   "id": "28e9bf9b4f848cd7",
   "execution_count": 91
  },
  {
   "cell_type": "code",
   "outputs": [
    {
     "data": {
      "text/plain": "102436"
     },
     "execution_count": 92,
     "metadata": {},
     "output_type": "execute_result"
    }
   ],
   "source": [
    "persons_best_prices_no_flags = pd.merge(merged_train[all_frags_filter][[\"LOT_ID\", \"IS_SELLER\", \"OFFER_PERSON_ID\", \"BUYER_PERSON_ID\", \"OFFERED_PRICE_RUBLES\"]], lots_best_prices_no_flags, on=[\"LOT_ID\", \"OFFERED_PRICE_RUBLES\"], how=\"inner\")\n",
    "len(persons_best_prices_no_flags)"
   ],
   "metadata": {
    "collapsed": false,
    "ExecuteTime": {
     "end_time": "2025-03-30T16:05:44.571641Z",
     "start_time": "2025-03-30T16:05:44.336512Z"
    }
   },
   "id": "378cd179c6a9fb76",
   "execution_count": 92
  },
  {
   "cell_type": "code",
   "outputs": [
    {
     "data": {
      "text/plain": "IS_SELLER\n1    92751\n0     9685\nName: count, dtype: int64"
     },
     "execution_count": 93,
     "metadata": {},
     "output_type": "execute_result"
    }
   ],
   "source": [
    "persons_best_prices_no_flags[\"IS_SELLER\"].value_counts()"
   ],
   "metadata": {
    "collapsed": false,
    "ExecuteTime": {
     "end_time": "2025-03-30T16:05:50.018923Z",
     "start_time": "2025-03-30T16:05:50.010964Z"
    }
   },
   "id": "6436a9b14438d464",
   "execution_count": 93
  },
  {
   "cell_type": "markdown",
   "source": [
    "Среди селлеров без установленных флагов почти все, кто установил минимальную цену, выиграли.\n",
    "На остальных 256 лотах есть селлеры, которые единственные установили мин. цену, не имели флагов, но проиграли.\n",
    "Можно считать остальных селлеров погрешностью (возможно на проирыш повлияли иные обстоятельства) или выкинуть из данных для лучше интерпритации. \n",
    "Помним также, что у нас были странные случаи выигрыша, несмотря на установку флага."
   ],
   "metadata": {
    "collapsed": false
   },
   "id": "4736b6cc413f7ef7"
  },
  {
   "cell_type": "markdown",
   "source": [
    "В любом случае признак почти однозначно определяет таргет, а в момент совершения предсказания не будет доступен."
   ],
   "metadata": {
    "collapsed": false
   },
   "id": "b8b7465ed2698701"
  },
  {
   "cell_type": "code",
   "outputs": [
    {
     "data": {
      "text/plain": "Index(['LOT_ID', 'OFFER_ID', 'OFFER_PERSON_ID', 'BUYER_PERSON_ID', 'IS_SELLER',\n       'CANCELLED_FLAG', 'INCONSISTENT_FLAG', 'UNCONSIDERED_FLAG',\n       'REJECT_FLAG', 'CUSTOMER_REFUSAL_FLAG', 'AU_FO_PRICE', 'AU_STEPS_COUNT',\n       'OFFERED_PRICE_RUBLES', 'FINAL_PARENT_OKATO_NAME_OFFER',\n       'FINAL_PARENT_OKATO_NAME_BUYER', 'LOT_NAME', 'TOTAL_START_PRICE_RUBLES',\n       'TOTAL_O_G_AMOUNT_RUBLES', 'TOTAL_C_G_AMOUNT_RUBLES'],\n      dtype='object')"
     },
     "execution_count": 102,
     "metadata": {},
     "output_type": "execute_result"
    }
   ],
   "source": [
    "merged_train.columns"
   ],
   "metadata": {
    "collapsed": false,
    "ExecuteTime": {
     "end_time": "2025-03-30T16:50:10.264226Z",
     "start_time": "2025-03-30T16:50:10.260083Z"
    }
   },
   "id": "c372673805c63bf9",
   "execution_count": 102
  },
  {
   "cell_type": "code",
   "outputs": [
    {
     "data": {
      "text/plain": "<Figure size 600x600 with 2 Axes>",
      "image/png": "[encoded data removed]"
     },
     "metadata": {},
     "output_type": "display_data"
    }
   ],
   "source": [
    "numeric_columns = [\"IS_SELLER\", \"TOTAL_START_PRICE_RUBLES\", \"TOTAL_O_G_AMOUNT_RUBLES\", \"TOTAL_C_G_AMOUNT_RUBLES\", \"OFFERED_PRICE_RUBLES\", \"AU_STEPS_COUNT\", \"AU_FO_PRICE\"] + flags\n",
    "corrmap = merged_train[numeric_columns].corr()\n",
    "\n",
    "fig, ax = plt.subplots(figsize=(6, 6))\n",
    "sns.heatmap(corrmap, square=True)\n",
    "plt.show()"
   ],
   "metadata": {
    "collapsed": false,
    "ExecuteTime": {
     "end_time": "2025-03-30T16:53:56.532138Z",
     "start_time": "2025-03-30T16:53:56.202327Z"
    }
   },
   "id": "9c680c2f8e84eb8",
   "execution_count": 110
  },
  {
   "cell_type": "markdown",
   "source": [
    "Удивительно, что таргет почти не коррелирует с флагами"
   ],
   "metadata": {
    "collapsed": false
   },
   "id": "4d24273220235b28"
  },
  {
   "cell_type": "markdown",
   "source": [
    "##### Проверка пропусков"
   ],
   "metadata": {
    "collapsed": false
   },
   "id": "98c349d7e139b00e"
  },
  {
   "cell_type": "code",
   "outputs": [
    {
     "data": {
      "text/plain": "LOT_ID                            0.000000\nOFFER_ID                          0.000000\nOFFER_PERSON_ID                   0.000000\nBUYER_PERSON_ID                   0.000000\nIS_SELLER                         0.000000\nCANCELLED_FLAG                    0.000000\nINCONSISTENT_FLAG                 0.000000\nUNCONSIDERED_FLAG                 0.000000\nREJECT_FLAG                       0.000000\nCUSTOMER_REFUSAL_FLAG             0.000000\nAU_FO_PRICE                      52.424855\nAU_STEPS_COUNT                   52.424855\nOFFERED_PRICE_RUBLES              4.505484\nFINAL_PARENT_OKATO_NAME_OFFER     1.673539\nFINAL_PARENT_OKATO_NAME_BUYER     2.671034\nLOT_NAME                          0.000000\nTOTAL_START_PRICE_RUBLES          0.782145\nTOTAL_O_G_AMOUNT_RUBLES          32.300348\nTOTAL_C_G_AMOUNT_RUBLES          47.802716\ndtype: float64"
     },
     "execution_count": 114,
     "metadata": {},
     "output_type": "execute_result"
    }
   ],
   "source": [
    "100 * (len(merged_train) - merged_train.count()) / len(merged_train)"
   ],
   "metadata": {
    "collapsed": false,
    "ExecuteTime": {
     "end_time": "2025-03-30T17:12:31.537157Z",
     "start_time": "2025-03-30T17:12:31.481211Z"
    }
   },
   "id": "bd0899a037c72d14",
   "execution_count": 114
  },
  {
   "cell_type": "markdown",
   "source": [
    "Пропуски в основном в данных о ценах"
   ],
   "metadata": {
    "collapsed": false
   },
   "id": "3e7adcc79a7e3d52"
  }
 ],
 "metadata": {
  "kernelspec": {
   "display_name": "Python 3",
   "language": "python",
   "name": "python3"
  },
  "language_info": {
   "codemirror_mode": {
    "name": "ipython",
    "version": 2
   },
   "file_extension": ".py",
   "mimetype": "text/x-python",
   "name": "python",
   "nbconvert_exporter": "python",
   "pygments_lexer": "ipython2",
   "version": "2.7.6"
  }
 },
 "nbformat": 4,
 "nbformat_minor": 5
}
