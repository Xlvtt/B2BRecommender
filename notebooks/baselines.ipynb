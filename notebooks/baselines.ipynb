{
 "cells": [
  {
   "cell_type": "markdown",
   "source": [
    "# Выбор таргета"
   ],
   "metadata": {
    "collapsed": false
   },
   "id": "3796d552d5ecac1e"
  },
  {
   "cell_type": "markdown",
   "source": [
    "IS_SELLER - наш кандидат на таргет. Возможно именно факт победы в аукционе можно считать истинным отражением релевантности поставщика заказчику.\n",
    "Построив рекомендательную систему на основе такого таргета, мы будем рекомендовать заказчику тех поставщиков, которые с наибольшей вероятностью выиграют в аукционе.\n",
    "\n",
    "В идеале я хочу рекомендовать:\n",
    "1. Наиболее подходящих по области к запросу. Тех, кто исполнял похожие заказы (нужна матрица заказ-поставщик, но в отрыве от поставщика она ничего не дает, у нас в датасете сто тысяч уже законченных запросов, рекоммендовать к ним что-либо бессмысленно, а для новых возникает проблема холодного старта). Лучше использовать запрос в качестве фичей для контеного метода.\n",
    "2. Наиболее честных и наименее рискованных. Можно поизвлекать признаки из аггрегаций по флагам в трейне.\n",
    "3. Предлагающих наилучшие условия по деньгам. (Мы можем, например, кластеризовать заказы по описаниям или объемам, и для каждого кластера насчитать средние по финальным и начальным ценам. Определяя кластер заказа в запросе, мы можем понять, какое значение фичи подтянуть)\n",
    "4. Тех, кто при всем этом действительно выиграет аукцион.\n",
    "\n",
    "Я могу построить три рекомендательных системы: на цену, на безопасность и на победу в аукционе\n",
    "А их скоры выдавать с весами, которые задает пользователь сам."
   ],
   "metadata": {
    "collapsed": false
   },
   "id": "d0994291420a294a"
  },
  {
   "cell_type": "markdown",
   "source": [
    "# Обучение модели"
   ],
   "metadata": {
    "collapsed": false
   },
   "id": "2debc69cf83677ed"
  },
  {
   "cell_type": "markdown",
   "source": [
    "## Подрузка данных"
   ],
   "metadata": {
    "collapsed": false
   },
   "id": "4ad4253f640a5454"
  },
  {
   "cell_type": "code",
   "outputs": [],
   "source": [
    "import pandas as pd\n",
    "import seaborn as sns\n",
    "import matplotlib.pyplot as plt\n",
    "import pathlib\n",
    "import rectools\n",
    "\n",
    "from sklearn.model_selection import train_test_split"
   ],
   "metadata": {
    "collapsed": false,
    "ExecuteTime": {
     "end_time": "2025-03-31T13:11:23.395085Z",
     "start_time": "2025-03-31T13:11:23.392298Z"
    }
   },
   "id": "97cf263c2181583a",
   "execution_count": 8
  },
  {
   "cell_type": "code",
   "outputs": [],
   "source": [
    "data_path = pathlib.Path(\"../data/\")\n",
    "\n",
    "offers = pd.read_csv(data_path / \"d_offer.csv\")\n",
    "lots = pd.read_csv(data_path / \"d_lot.csv\")\n",
    "lots_prods = pd.read_csv(data_path / \"d_lot_prod.csv\")\n",
    "persons = pd.read_csv(data_path / \"d_person.csv\")\n",
    "\n",
    "df_train = pd.read_csv(data_path / \"all_ids_train.csv\")"
   ],
   "metadata": {
    "collapsed": false,
    "ExecuteTime": {
     "end_time": "2025-03-31T13:11:24.421724Z",
     "start_time": "2025-03-31T13:11:23.569443Z"
    }
   },
   "id": "f83c29ec945db389",
   "execution_count": 9
  },
  {
   "cell_type": "code",
   "outputs": [],
   "source": [
    "def get_merged_data(df):\n",
    "    merged_df = pd.merge(df, offers, left_on=[\"OFFER_ID\", \"LOT_ID\"], right_on=[\"OFFER_ID\", \"LOT_ID\"], how=\"left\") # джойним к логам офферы\n",
    "    merged_df = pd.merge(merged_df, persons, left_on=\"OFFER_PERSON_ID\", right_on=\"PERSON_ID\", how=\"left\").drop(\"PERSON_ID\", axis=1)\n",
    "    merged_df = pd.merge(merged_df, persons, left_on=\"BUYER_PERSON_ID\", right_on=\"PERSON_ID\", suffixes=(\"_OFFER\", \"_BUYER\")).drop(\"PERSON_ID\", axis=1) # джойним к поставщикам и заказчикам их города\n",
    "    \n",
    "    merged_df = pd.merge(merged_df, lots, on=\"LOT_ID\", how=\"left\") # джойним лоты\n",
    "    # merged_df = pd.merge(merged_df, lots_prods, on=\"LOT_ID\", how=\"left\") # джойним продукты в лотах, там целый список с количествами\n",
    "    return merged_df\n",
    "\n",
    "merged_df = get_merged_data(df_train)"
   ],
   "metadata": {
    "collapsed": false,
    "ExecuteTime": {
     "end_time": "2025-03-31T13:11:24.766007Z",
     "start_time": "2025-03-31T13:11:24.422735Z"
    }
   },
   "id": "30ae2284e3885659",
   "execution_count": 10
  },
  {
   "cell_type": "markdown",
   "source": [
    "Отфильтруем странные контракты с установленными флагами"
   ],
   "metadata": {
    "collapsed": false
   },
   "id": "6bd3113be18d6c82"
  },
  {
   "cell_type": "code",
   "outputs": [],
   "source": [
    "from functools import reduce\n",
    "\n",
    "flags_list = [\"CANCELLED_FLAG\", \"INCONSISTENT_FLAG\", \"UNCONSIDERED_FLAG\", \"REJECT_FLAG\", \"CUSTOMER_REFUSAL_FLAG\"]\n",
    "\n",
    "any_flag_filter = reduce(lambda x, y : x | y, map(lambda f: merged_df[f] == 1, flags_list))\n",
    "\n",
    "merged_df = merged_df[~merged_df[\"IS_SELLER\"] | ~any_flag_filter]"
   ],
   "metadata": {
    "collapsed": false,
    "ExecuteTime": {
     "end_time": "2025-03-31T13:11:24.818199Z",
     "start_time": "2025-03-31T13:11:24.767195Z"
    }
   },
   "id": "9eeb875a681d6f8f",
   "execution_count": 11
  },
  {
   "cell_type": "markdown",
   "source": [
    "Посмотрим на распределение таргета"
   ],
   "metadata": {
    "collapsed": false
   },
   "id": "18f904070b56ddd5"
  },
  {
   "cell_type": "code",
   "outputs": [
    {
     "data": {
      "text/plain": "<Figure size 640x480 with 1 Axes>",
      "image/png": "[encoded data removed]"
     },
     "metadata": {},
     "output_type": "display_data"
    }
   ],
   "source": [
    "sns.barplot(merged_df[\"IS_SELLER\"].value_counts())\n",
    "plt.show()"
   ],
   "metadata": {
    "collapsed": false,
    "ExecuteTime": {
     "end_time": "2025-03-31T13:52:11.487082Z",
     "start_time": "2025-03-31T13:52:11.437144Z"
    }
   },
   "id": "4a6bf8e4d9625394",
   "execution_count": 35
  },
  {
   "cell_type": "markdown",
   "source": [
    "Для коллаборативной фильтрации достаточно иметь только матрицу: Заказчик - поставщик - факт заключения контракта"
   ],
   "metadata": {
    "collapsed": false
   },
   "id": "e2c9fd376e4e71e2"
  },
  {
   "cell_type": "markdown",
   "source": [
    "## 1. Таргет - факт заключения контракта"
   ],
   "metadata": {
    "collapsed": false
   },
   "id": "98f170825fc85db6"
  },
  {
   "cell_type": "markdown",
   "source": [
    "### Подготовим данные"
   ],
   "metadata": {
    "collapsed": false
   },
   "id": "f3cc93bd560b876"
  },
  {
   "cell_type": "markdown",
   "source": [
    "Мы проставим 1, если поставщик выиграл у заказчика хотя бы один лот\n"
   ],
   "metadata": {
    "collapsed": false
   },
   "id": "90d7e7f45d494782"
  },
  {
   "cell_type": "code",
   "outputs": [
    {
     "data": {
      "text/plain": "   user_id  item_id  weight  datetime\n0        8       12       1        -1\n1        8      214       0        -1\n2        8      725       1        -1\n3        8      762       0        -1\n4        8      918       0        -1",
      "text/html": "<div>\n<style scoped>\n    .dataframe tbody tr th:only-of-type {\n        vertical-align: middle;\n    }\n\n    .dataframe tbody tr th {\n        vertical-align: top;\n    }\n\n    .dataframe thead th {\n        text-align: right;\n    }\n</style>\n<table border=\"1\" class=\"dataframe\">\n  <thead>\n    <tr style=\"text-align: right;\">\n      <th></th>\n      <th>user_id</th>\n      <th>item_id</th>\n      <th>weight</th>\n      <th>datetime</th>\n    </tr>\n  </thead>\n  <tbody>\n    <tr>\n      <th>0</th>\n      <td>8</td>\n      <td>12</td>\n      <td>1</td>\n      <td>-1</td>\n    </tr>\n    <tr>\n      <th>1</th>\n      <td>8</td>\n      <td>214</td>\n      <td>0</td>\n      <td>-1</td>\n    </tr>\n    <tr>\n      <th>2</th>\n      <td>8</td>\n      <td>725</td>\n      <td>1</td>\n      <td>-1</td>\n    </tr>\n    <tr>\n      <th>3</th>\n      <td>8</td>\n      <td>762</td>\n      <td>0</td>\n      <td>-1</td>\n    </tr>\n    <tr>\n      <th>4</th>\n      <td>8</td>\n      <td>918</td>\n      <td>0</td>\n      <td>-1</td>\n    </tr>\n  </tbody>\n</table>\n</div>"
     },
     "execution_count": 12,
     "metadata": {},
     "output_type": "execute_result"
    }
   ],
   "source": [
    "from rectools import Columns\n",
    "\n",
    "base_columns = [\"OFFER_PERSON_ID\",\"BUYER_PERSON_ID\", \"IS_SELLER\"]\n",
    "\n",
    "df_all = merged_df[base_columns]\n",
    "df_all = df_all[df_all[\"OFFER_PERSON_ID\"] != -1]\n",
    "df_all = df_all.rename(columns={\n",
    "    \"BUYER_PERSON_ID\": Columns.User,\n",
    "    \"OFFER_PERSON_ID\": Columns.Item,\n",
    "    \"IS_SELLER\": Columns.Weight\n",
    "})\n",
    "df_all[Columns.Datetime] = -1\n",
    "\n",
    "df = df_all.groupby([Columns.User, Columns.Item]).max().reset_index()\n",
    "df.head()"
   ],
   "metadata": {
    "collapsed": false,
    "ExecuteTime": {
     "end_time": "2025-03-31T13:11:26.113671Z",
     "start_time": "2025-03-31T13:11:26.025947Z"
    }
   },
   "id": "6aab371d76150561",
   "execution_count": 12
  },
  {
   "cell_type": "markdown",
   "source": [
    "Посмотрим на распределение числа интеракиций заказчиков"
   ],
   "metadata": {
    "collapsed": false
   },
   "id": "e36a44f792865206"
  },
  {
   "cell_type": "code",
   "outputs": [
    {
     "data": {
      "text/plain": "<Figure size 400x400 with 1 Axes>",
      "image/png": "[encoded data removed]"
     },
     "metadata": {},
     "output_type": "display_data"
    }
   ],
   "source": [
    "interactions_count = df.groupby(Columns.User)[Columns.Item].count()\n",
    "\n",
    "fig, ax = plt.subplots(figsize=(4,4))\n",
    "plt.hist(interactions_count, bins=60, log=True)\n",
    "plt.show()"
   ],
   "metadata": {
    "collapsed": false,
    "ExecuteTime": {
     "end_time": "2025-03-31T13:11:27.262841Z",
     "start_time": "2025-03-31T13:11:27.145360Z"
    }
   },
   "id": "cef1f0dc70491d73",
   "execution_count": 13
  },
  {
   "cell_type": "code",
   "outputs": [
    {
     "data": {
      "text/plain": "count    7035.000000\nmean       29.497655\nstd        32.749909\nmin         5.000000\n25%         7.000000\n50%        17.000000\n75%        39.000000\nmax       324.000000\nName: item_id, dtype: float64"
     },
     "execution_count": 14,
     "metadata": {},
     "output_type": "execute_result"
    }
   ],
   "source": [
    "interactions_count.describe()"
   ],
   "metadata": {
    "collapsed": false,
    "ExecuteTime": {
     "end_time": "2025-03-31T13:11:27.379604Z",
     "start_time": "2025-03-31T13:11:27.374509Z"
    }
   },
   "id": "ab1647fa20ae47cf",
   "execution_count": 14
  },
  {
   "cell_type": "markdown",
   "source": [
    "Видим, что есть заказчики с большим числом интеракций с разными поставщиками, но при этом подавляющее большинство среди них взаимодействовало с совсем небольшим количеством поставщиков.\n",
    "\n",
    "Оценим распределение на общее число интеракций, а не только с уникальными поставщиками."
   ],
   "metadata": {
    "collapsed": false
   },
   "id": "d9ead0ca6311b930"
  },
  {
   "cell_type": "code",
   "outputs": [
    {
     "data": {
      "text/plain": "[]"
     },
     "execution_count": 15,
     "metadata": {},
     "output_type": "execute_result"
    },
    {
     "data": {
      "text/plain": "<Figure size 640x480 with 1 Axes>",
      "image/png": "[encoded data removed]"
     },
     "metadata": {},
     "output_type": "display_data"
    }
   ],
   "source": [
    "interactions_count_all = df_all.groupby(Columns.User)[Columns.Item].count()\n",
    "\n",
    "plt.hist(interactions_count_all, bins=60, log=True)\n",
    "plt.plot()"
   ],
   "metadata": {
    "collapsed": false,
    "ExecuteTime": {
     "end_time": "2025-03-31T13:11:28.568034Z",
     "start_time": "2025-03-31T13:11:28.374767Z"
    }
   },
   "id": "8f8a444cb85cfe62",
   "execution_count": 15
  },
  {
   "cell_type": "code",
   "outputs": [
    {
     "data": {
      "text/plain": "count    7035.000000\nmean       76.766596\nstd       160.132804\nmin         5.000000\n25%         8.500000\n50%        25.000000\n75%        75.000000\nmax      5160.000000\nName: item_id, dtype: float64"
     },
     "execution_count": 16,
     "metadata": {},
     "output_type": "execute_result"
    }
   ],
   "source": [
    "interactions_count_all.describe()"
   ],
   "metadata": {
    "collapsed": false,
    "ExecuteTime": {
     "end_time": "2025-03-31T13:11:28.635732Z",
     "start_time": "2025-03-31T13:11:28.629823Z"
    }
   },
   "id": "4a1bf5c4592fd4e0",
   "execution_count": 16
  },
  {
   "cell_type": "markdown",
   "source": [
    "На общее число интеракций у нас вообще гигантский разброс.\n",
    "Кажется, это связано с тем, что на рынке есть игроки совершенно разного масштаба: крупные компании делают заказы постоянно."
   ],
   "metadata": {
    "collapsed": false
   },
   "id": "43f735295b48d611"
  },
  {
   "cell_type": "markdown",
   "source": [
    "Определим холодных юзеров. Мы сможем сделать по ним срез данных.\n",
    "С учетом квантиля в 25% на 8.5 будем считать юзера холодным, если у него <= 8 интеракций"
   ],
   "metadata": {
    "collapsed": false
   },
   "id": "a6fe452f7b84bf79"
  },
  {
   "cell_type": "code",
   "outputs": [],
   "source": [
    "cold_user_threshold = 8\n",
    "df_all = pd.merge(df_all, interactions_count_all <= cold_user_threshold, left_on=Columns.User, right_on=Columns.User, how=\"left\").rename(columns={Columns.Item + \"_y\": \"is_cold\", Columns.Item + \"_x\": Columns.Item})\n",
    "\n",
    "cold_user_threshold_unique = 6\n",
    "df = pd.merge(df, interactions_count <= cold_user_threshold_unique, left_on=Columns.User, right_on=Columns.User, how=\"left\").rename(columns={Columns.Item + \"_y\": \"is_cold\", Columns.Item + \"_x\": Columns.Item})"
   ],
   "metadata": {
    "collapsed": false,
    "ExecuteTime": {
     "end_time": "2025-03-31T13:11:33.928331Z",
     "start_time": "2025-03-31T13:11:33.878529Z"
    }
   },
   "id": "d64e2ec3b248702c",
   "execution_count": 17
  },
  {
   "cell_type": "code",
   "outputs": [],
   "source": [
    "df_train, df_test = train_test_split(df_all, train_size=0.8, random_state=72) \n",
    "\n",
    "df_test = df_test[df_test[Columns.User].isin(df_train[Columns.User])]"
   ],
   "metadata": {
    "collapsed": false,
    "ExecuteTime": {
     "end_time": "2025-03-31T13:11:34.097942Z",
     "start_time": "2025-03-31T13:11:34.064633Z"
    }
   },
   "id": "2741b66e741e698",
   "execution_count": 18
  },
  {
   "cell_type": "markdown",
   "source": [
    "Разделили данные случайно (так как не имеем временных меток) и отфильтровали по юзеру"
   ],
   "metadata": {
    "collapsed": false
   },
   "id": "211b94ac3f7cf49e"
  },
  {
   "cell_type": "markdown",
   "source": [
    "### Модель Popular\n",
    "\n",
    "Будем считать поставщика популярным, если к нему обращаются много разных заказчиков."
   ],
   "metadata": {
    "collapsed": false
   },
   "id": "10537e9047c2f7d0"
  },
  {
   "cell_type": "code",
   "outputs": [
    {
     "data": {
      "text/plain": "<rectools.models.popular.PopularModel at 0x1972f149370>"
     },
     "execution_count": 19,
     "metadata": {},
     "output_type": "execute_result"
    }
   ],
   "source": [
    "from rectools.models import PopularModel\n",
    "from rectools.dataset import Dataset\n",
    "\n",
    "model = PopularModel(\n",
    "    popularity=\"n_users\", # mean_weight, sum_weight, n_interactions\n",
    "    verbose=1\n",
    ")\n",
    "# количество взаимодействий не равно количеству пользователей, так что один юзер мог взаимодействовать несколько раз с разными эффектами\n",
    "model.fit(Dataset.construct(df_train))"
   ],
   "metadata": {
    "collapsed": false,
    "ExecuteTime": {
     "end_time": "2025-03-31T13:11:35.406283Z",
     "start_time": "2025-03-31T13:11:34.983189Z"
    }
   },
   "id": "335b4f80fc65029c",
   "execution_count": 19
  },
  {
   "cell_type": "markdown",
   "source": [
    "#### Оценка качества"
   ],
   "metadata": {
    "collapsed": false
   },
   "id": "c5e993485eebb964"
  },
  {
   "cell_type": "markdown",
   "source": [
    "Метрики ранжирования:\n",
    "1. Precision@k, MeanAveragePrecision, nDCG\n",
    "\n",
    "Метрики рекомендаций:\n",
    "1. Diversity, novelty, coverage, serendipity\n",
    "\n",
    "К сожалению, в рамках курсача невозможно оценить бизнес-метрики"
   ],
   "metadata": {
    "collapsed": false
   },
   "id": "4175b8ee4d1bc2e5"
  },
  {
   "cell_type": "markdown",
   "source": [
    "##### 1. Метрики ранжирования"
   ],
   "metadata": {
    "collapsed": false
   },
   "id": "5aa45c99ec229046"
  },
  {
   "cell_type": "markdown",
   "source": [
    "Сначала избавимся от одинаковых интеракций с разными результами, оставив толькос амую успешную для каждлого поставщика"
   ],
   "metadata": {
    "collapsed": false
   },
   "id": "4f976518f16a2e39"
  },
  {
   "cell_type": "code",
   "outputs": [
    {
     "data": {
      "text/plain": "   user_id  item_id  weight  datetime  is_cold\n0        8       12       0        -1    False\n1        8     1297       1        -1    False\n2        8     1413       0        -1    False\n3        8     1613       0        -1    False\n4        8     2415       1        -1    False",
      "text/html": "<div>\n<style scoped>\n    .dataframe tbody tr th:only-of-type {\n        vertical-align: middle;\n    }\n\n    .dataframe tbody tr th {\n        vertical-align: top;\n    }\n\n    .dataframe thead th {\n        text-align: right;\n    }\n</style>\n<table border=\"1\" class=\"dataframe\">\n  <thead>\n    <tr style=\"text-align: right;\">\n      <th></th>\n      <th>user_id</th>\n      <th>item_id</th>\n      <th>weight</th>\n      <th>datetime</th>\n      <th>is_cold</th>\n    </tr>\n  </thead>\n  <tbody>\n    <tr>\n      <th>0</th>\n      <td>8</td>\n      <td>12</td>\n      <td>0</td>\n      <td>-1</td>\n      <td>False</td>\n    </tr>\n    <tr>\n      <th>1</th>\n      <td>8</td>\n      <td>1297</td>\n      <td>1</td>\n      <td>-1</td>\n      <td>False</td>\n    </tr>\n    <tr>\n      <th>2</th>\n      <td>8</td>\n      <td>1413</td>\n      <td>0</td>\n      <td>-1</td>\n      <td>False</td>\n    </tr>\n    <tr>\n      <th>3</th>\n      <td>8</td>\n      <td>1613</td>\n      <td>0</td>\n      <td>-1</td>\n      <td>False</td>\n    </tr>\n    <tr>\n      <th>4</th>\n      <td>8</td>\n      <td>2415</td>\n      <td>1</td>\n      <td>-1</td>\n      <td>False</td>\n    </tr>\n  </tbody>\n</table>\n</div>"
     },
     "execution_count": 20,
     "metadata": {},
     "output_type": "execute_result"
    }
   ],
   "source": [
    "df_test = df_test.groupby([Columns.User, Columns.Item]).max().reset_index()\n",
    "df_test.head()"
   ],
   "metadata": {
    "collapsed": false,
    "ExecuteTime": {
     "end_time": "2025-03-31T13:11:37.811601Z",
     "start_time": "2025-03-31T13:11:37.782879Z"
    }
   },
   "id": "39de3438b8a6940f",
   "execution_count": 20
  },
  {
   "cell_type": "code",
   "outputs": [
    {
     "data": {
      "text/plain": "  0%|          | 0/6389 [00:00<?, ?it/s]",
      "application/vnd.jupyter.widget-view+json": {
       "version_major": 2,
       "version_minor": 0,
       "model_id": "2f5b0780a2dd45a09f4cb4acdfefc550"
      }
     },
     "metadata": {},
     "output_type": "display_data"
    },
    {
     "data": {
      "text/plain": "       user_id  item_id   score  rank\n0            8    10023  2207.0     1\n1            8     2914  2020.0     2\n2            8     2262  1853.0     3\n3            8     3114  1311.0     4\n4            8     1613  1290.0     5\n...        ...      ...     ...   ...\n63885    25034     4523  1186.0     6\n63886    25034     4001  1091.0     7\n63887    25034     3808  1058.0     8\n63888    25034     5731  1051.0     9\n63889    25034     4492   991.0    10\n\n[63890 rows x 4 columns]",
      "text/html": "<div>\n<style scoped>\n    .dataframe tbody tr th:only-of-type {\n        vertical-align: middle;\n    }\n\n    .dataframe tbody tr th {\n        vertical-align: top;\n    }\n\n    .dataframe thead th {\n        text-align: right;\n    }\n</style>\n<table border=\"1\" class=\"dataframe\">\n  <thead>\n    <tr style=\"text-align: right;\">\n      <th></th>\n      <th>user_id</th>\n      <th>item_id</th>\n      <th>score</th>\n      <th>rank</th>\n    </tr>\n  </thead>\n  <tbody>\n    <tr>\n      <th>0</th>\n      <td>8</td>\n      <td>10023</td>\n      <td>2207.0</td>\n      <td>1</td>\n    </tr>\n    <tr>\n      <th>1</th>\n      <td>8</td>\n      <td>2914</td>\n      <td>2020.0</td>\n      <td>2</td>\n    </tr>\n    <tr>\n      <th>2</th>\n      <td>8</td>\n      <td>2262</td>\n      <td>1853.0</td>\n      <td>3</td>\n    </tr>\n    <tr>\n      <th>3</th>\n      <td>8</td>\n      <td>3114</td>\n      <td>1311.0</td>\n      <td>4</td>\n    </tr>\n    <tr>\n      <th>4</th>\n      <td>8</td>\n      <td>1613</td>\n      <td>1290.0</td>\n      <td>5</td>\n    </tr>\n    <tr>\n      <th>...</th>\n      <td>...</td>\n      <td>...</td>\n      <td>...</td>\n      <td>...</td>\n    </tr>\n    <tr>\n      <th>63885</th>\n      <td>25034</td>\n      <td>4523</td>\n      <td>1186.0</td>\n      <td>6</td>\n    </tr>\n    <tr>\n      <th>63886</th>\n      <td>25034</td>\n      <td>4001</td>\n      <td>1091.0</td>\n      <td>7</td>\n    </tr>\n    <tr>\n      <th>63887</th>\n      <td>25034</td>\n      <td>3808</td>\n      <td>1058.0</td>\n      <td>8</td>\n    </tr>\n    <tr>\n      <th>63888</th>\n      <td>25034</td>\n      <td>5731</td>\n      <td>1051.0</td>\n      <td>9</td>\n    </tr>\n    <tr>\n      <th>63889</th>\n      <td>25034</td>\n      <td>4492</td>\n      <td>991.0</td>\n      <td>10</td>\n    </tr>\n  </tbody>\n</table>\n<p>63890 rows × 4 columns</p>\n</div>"
     },
     "execution_count": 21,
     "metadata": {},
     "output_type": "execute_result"
    }
   ],
   "source": [
    "recs = model.recommend(\n",
    "    users=df_test[Columns.User].unique(),\n",
    "    dataset=Dataset.construct(df_test),\n",
    "    k=10,\n",
    "    filter_viewed=False\n",
    ")\n",
    "recs"
   ],
   "metadata": {
    "collapsed": false,
    "ExecuteTime": {
     "end_time": "2025-03-31T13:11:38.364474Z",
     "start_time": "2025-03-31T13:11:38.319287Z"
    }
   },
   "id": "fe05dcfaf778cc9b",
   "execution_count": 21
  },
  {
   "cell_type": "code",
   "outputs": [],
   "source": [
    "def score(metric, recs, df):\n",
    "    cold_users = df[Columns.User][df[\"is_cold\"]]\n",
    "    cold_users_filter = recs[Columns.User].isin(cold_users)\n",
    "    \n",
    "    res = {}\n",
    "    res[\"cold\"] = metric.calc(recs[cold_users_filter], df[df[\"is_cold\"]])\n",
    "    res[\"hot\"] = metric.calc(recs[~cold_users_filter], df[~df[\"is_cold\"]])\n",
    "    res[\"all\"] = metric.calc(recs, df)\n",
    "    return res"
   ],
   "metadata": {
    "collapsed": false,
    "ExecuteTime": {
     "end_time": "2025-03-31T13:11:38.950896Z",
     "start_time": "2025-03-31T13:11:38.947650Z"
    }
   },
   "id": "9d04ccff363108f",
   "execution_count": 22
  },
  {
   "cell_type": "markdown",
   "source": [],
   "metadata": {
    "collapsed": false
   },
   "id": "2c80bbbd3246f049"
  },
  {
   "cell_type": "code",
   "outputs": [
    {
     "data": {
      "text/plain": "          cold       hot       all\nMAP   0.000718  0.002149  0.001876\nNDCG  0.000389  0.010339  0.008447",
      "text/html": "<div>\n<style scoped>\n    .dataframe tbody tr th:only-of-type {\n        vertical-align: middle;\n    }\n\n    .dataframe tbody tr th {\n        vertical-align: top;\n    }\n\n    .dataframe thead th {\n        text-align: right;\n    }\n</style>\n<table border=\"1\" class=\"dataframe\">\n  <thead>\n    <tr style=\"text-align: right;\">\n      <th></th>\n      <th>cold</th>\n      <th>hot</th>\n      <th>all</th>\n    </tr>\n  </thead>\n  <tbody>\n    <tr>\n      <th>MAP</th>\n      <td>0.000718</td>\n      <td>0.002149</td>\n      <td>0.001876</td>\n    </tr>\n    <tr>\n      <th>NDCG</th>\n      <td>0.000389</td>\n      <td>0.010339</td>\n      <td>0.008447</td>\n    </tr>\n  </tbody>\n</table>\n</div>"
     },
     "execution_count": 29,
     "metadata": {},
     "output_type": "execute_result"
    }
   ],
   "source": [
    "from rectools.metrics.ranking import MAP, NDCG\n",
    "\n",
    "# Precision@k по всем позициям с 1\n",
    "\n",
    "pd.DataFrame([\n",
    "    score(MAP(k=10), recs, df_test),\n",
    "    score(NDCG(k=10), recs, df_test)\n",
    "], index=[\"MAP\", \"NDCG\"])"
   ],
   "metadata": {
    "collapsed": false,
    "ExecuteTime": {
     "end_time": "2025-03-31T13:32:14.681045Z",
     "start_time": "2025-03-31T13:32:14.573966Z"
    }
   },
   "id": "100e1ec971ef8c8b",
   "execution_count": 29
  },
  {
   "cell_type": "markdown",
   "source": [
    "Конечно, с такими метриками мы не будем использовать эту модель в качестве итоговой, но возможно она станет моделью первого уровня."
   ],
   "metadata": {
    "collapsed": false
   },
   "id": "5ee9058315e73228"
  },
  {
   "cell_type": "markdown",
   "source": [
    "Установим k=1000, и теперь вручную переберем тип нашей рекомендательной системы:"
   ],
   "metadata": {
    "collapsed": false
   },
   "id": "edc7e8409b8522d7"
  },
  {
   "cell_type": "code",
   "outputs": [
    {
     "name": "stdout",
     "output_type": "stream",
     "text": [
      "n_users:\n",
      "          cold       hot       all\n",
      "MAP   0.003096  0.012510  0.010720\n",
      "NDCG  0.000432  0.007018  0.005765\n",
      "n_interactions:\n",
      "          cold       hot       all\n",
      "MAP   0.002815  0.012542  0.010692\n",
      "NDCG  0.000436  0.007195  0.005910\n"
     ]
    }
   ],
   "source": [
    "for model_type in [\"n_users\", \"n_interactions\"]:\n",
    "    k=1000\n",
    "    \n",
    "    model = PopularModel(\n",
    "        popularity=model_type,\n",
    "        verbose=False\n",
    "    )\n",
    "    model.fit(Dataset.construct(df_train))\n",
    "    recs = model.recommend(\n",
    "        users=df_test[Columns.User].unique(),\n",
    "        dataset=Dataset.construct(df_test),\n",
    "        k=k,\n",
    "        filter_viewed=False\n",
    "    )\n",
    "    scores = pd.DataFrame([\n",
    "        score(MAP(k=k), recs, df_test),\n",
    "        score(NDCG(k=k), recs, df_test)\n",
    "    ], index=[\"MAP\", \"NDCG\"])\n",
    "    print(f\"{model_type}:\")\n",
    "    print(scores)"
   ],
   "metadata": {
    "collapsed": false,
    "ExecuteTime": {
     "end_time": "2025-03-31T13:59:34.418993Z",
     "start_time": "2025-03-31T13:59:20.618851Z"
    }
   },
   "id": "6e553f5e0e5d62e4",
   "execution_count": 40
  },
  {
   "cell_type": "markdown",
   "source": [
    "##### 2. Метрики рекомендаций"
   ],
   "metadata": {
    "collapsed": false
   },
   "id": "50c4ccd1d2ed9d24"
  },
  {
   "cell_type": "markdown",
   "source": [
    "Для метрики ILS для оценки разнообразия "
   ],
   "metadata": {
    "collapsed": false
   },
   "id": "575679b457f0c6b8"
  },
  {
   "cell_type": "code",
   "outputs": [],
   "source": [
    "from rectools.metrics.distances import PairwiseDistanceCalculator\n",
    "from rectools.metrics import IntraListDiversity"
   ],
   "metadata": {
    "collapsed": false
   },
   "id": "b671ce60fefe4196"
  },
  {
   "cell_type": "markdown",
   "source": [
    "### ALS"
   ],
   "metadata": {
    "collapsed": false
   },
   "id": "af4923b2e3714714"
  },
  {
   "cell_type": "markdown",
   "source": [
    "1. IALS (+написать инференс на новых объектах) с разными таргетами\n",
    "2. IALS + контентные фичи\n",
    "\n",
    "Что я хочу попробовать в качестве скоров:\n",
    "1. Классический ALS, где 1 - это участвовал и выиграл, а 0 - это участвовал, но проиграл\n",
    "2. Классический IALS, где мы оценим заключение контракта как 10, участие как 5, а остальное как 0. Можно еще число выигранных лотов поставить\n",
    "3. Эксперименты со скорами IALS по другим фичам"
   ],
   "metadata": {
    "collapsed": false
   },
   "id": "1e944fbcd616d684"
  },
  {
   "cell_type": "markdown",
   "source": [
    "# Вопросы"
   ],
   "metadata": {
    "collapsed": false
   },
   "id": "ab822560557a8bbf"
  },
  {
   "cell_type": "markdown",
   "source": [
    "1. Приходит новая заявка. Как решить, кого к ней рекомендовать? Кажется, коллаборативная фильтрация на основе факторизаций использует только историю взаимодейтсвия юзера и умноженгие на трейновую матрицу. Там ничего переучивать не надо.\n",
    "Другое ли дело, что с появлением большого числа новых юзеров тренды могут изменитсья и модель нужно все же переучить\n",
    "\n",
    "2. Какие фичи использовать? Если мой бустинг использует флаги, то, даже зная всех участников аукциона, я не предскажу победителя. Можем просто посчитать среднее число флагов как фичу.\n",
    "Но хочется учесть, какие именно контракты приводят к таким флагам. Можно поделать \n",
    "\n",
    "К поставщику проще, чем к заявке?\n",
    "SML - метод последовательного метаобучения https://paperswithcode.com/paper/how-to-retrain-recommender-system-a\n"
   ],
   "metadata": {
    "collapsed": false
   },
   "id": "34663a542ac327d6"
  }
 ],
 "metadata": {
  "kernelspec": {
   "display_name": "Python 3",
   "language": "python",
   "name": "python3"
  },
  "language_info": {
   "codemirror_mode": {
    "name": "ipython",
    "version": 2
   },
   "file_extension": ".py",
   "mimetype": "text/x-python",
   "name": "python",
   "nbconvert_exporter": "python",
   "pygments_lexer": "ipython2",
   "version": "2.7.6"
  }
 },
 "nbformat": 4,
 "nbformat_minor": 5
}
