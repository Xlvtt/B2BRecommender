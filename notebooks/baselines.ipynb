{
 "cells": [
  {
   "cell_type": "markdown",
   "source": [
    "# Выбор таргета"
   ],
   "metadata": {
    "collapsed": false
   },
   "id": "3796d552d5ecac1e"
  },
  {
   "cell_type": "markdown",
   "source": [
    "IS_SELLER - наш кандидат на таргет. Возможно именно факт победы в аукционе можно считать истинным отражением релевантности поставщика заказчику.\n",
    "Построив рекомендательную систему на основе такого таргета, мы будем рекомендовать заказчику тех поставщиков, которые с наибольшей вероятностью выиграют в аукционе.\n",
    "\n",
    "В идеале я хочу рекомендовать:\n",
    "1. Наиболее подходящих по области к запросу. Тех, кто исполнял похожие заказы (нужна матрица заказ-поставщик, но в отрыве от поставщика она ничего не дает, у нас в датасете сто тысяч уже законченных запросов, рекоммендовать к ним что-либо бессмысленно, а для новых возникает проблема холодного старта). Лучше использовать запрос в качестве фичей для контеного метода.\n",
    "2. Наиболее честных и наименее рискованных. Можно поизвлекать признаки из аггрегаций по флагам в трейне.\n",
    "3. Предлагающих наилучшие условия по деньгам. (Мы можем, например, кластеризовать заказы по описаниям или объемам, и для каждого кластера насчитать средние по финальным и начальным ценам. Определяя кластер заказа в запросе, мы можем понять, какое значение фичи подтянуть)\n",
    "4. Тех, кто при всем этом действительно выиграет аукцион.\n",
    "\n",
    "Я могу построить три рекомендательных системы: на цену, на безопасность и на победу в аукционе\n",
    "А их скоры выдавать с весами, которые задает пользователь сам."
   ],
   "metadata": {
    "collapsed": false
   },
   "id": "d0994291420a294a"
  },
  {
   "cell_type": "markdown",
   "source": [
    "# Обучение модели"
   ],
   "metadata": {
    "collapsed": false
   },
   "id": "2debc69cf83677ed"
  },
  {
   "cell_type": "markdown",
   "source": [
    "## Подрузка данных"
   ],
   "metadata": {
    "collapsed": false
   },
   "id": "4ad4253f640a5454"
  },
  {
   "cell_type": "code",
   "outputs": [],
   "source": [
    "import os\n",
    "\n",
    "import pandas as pd\n",
    "import seaborn as sns\n",
    "import matplotlib.pyplot as plt\n",
    "import pathlib\n",
    "import rectools\n",
    "\n",
    "from sklearn.model_selection import train_test_split"
   ],
   "metadata": {
    "collapsed": false,
    "ExecuteTime": {
     "end_time": "2025-04-11T20:29:42.403289Z",
     "start_time": "2025-04-11T20:29:41.211275Z"
    }
   },
   "id": "97cf263c2181583a",
   "execution_count": 1
  },
  {
   "cell_type": "code",
   "outputs": [],
   "source": [
    "data_path = pathlib.Path(\"../data/\")\n",
    "\n",
    "offers = pd.read_csv(data_path / \"d_offer.csv\")\n",
    "lots = pd.read_csv(data_path / \"d_lot.csv\")\n",
    "lots_prods = pd.read_csv(data_path / \"d_lot_prod.csv\")\n",
    "persons = pd.read_csv(data_path / \"d_person.csv\")\n",
    "\n",
    "df_train = pd.read_csv(data_path / \"all_ids_train.csv\")"
   ],
   "metadata": {
    "collapsed": false,
    "ExecuteTime": {
     "end_time": "2025-04-11T20:29:43.257638Z",
     "start_time": "2025-04-11T20:29:42.405031Z"
    }
   },
   "id": "f83c29ec945db389",
   "execution_count": 2
  },
  {
   "cell_type": "code",
   "outputs": [
    {
     "data": {
      "text/plain": "277"
     },
     "execution_count": 3,
     "metadata": {},
     "output_type": "execute_result"
    }
   ],
   "source": [
    "persons[\"FINAL_PARENT_OKATO_NAME\"].value_counts()[\"Ярославская область\"]"
   ],
   "metadata": {
    "collapsed": false,
    "ExecuteTime": {
     "end_time": "2025-04-11T20:29:43.266779Z",
     "start_time": "2025-04-11T20:29:43.258650Z"
    }
   },
   "id": "e2b1c0094200c7f1",
   "execution_count": 3
  },
  {
   "cell_type": "code",
   "outputs": [],
   "source": [
    "def get_merged_data(df):\n",
    "    merged_df = pd.merge(df, offers, left_on=[\"OFFER_ID\", \"LOT_ID\"], right_on=[\"OFFER_ID\", \"LOT_ID\"], how=\"left\") # джойним к логам офферы\n",
    "    merged_df = pd.merge(merged_df, persons, left_on=\"OFFER_PERSON_ID\", right_on=\"PERSON_ID\", how=\"left\").drop(\"PERSON_ID\", axis=1)\n",
    "    merged_df = pd.merge(merged_df, persons, left_on=\"BUYER_PERSON_ID\", right_on=\"PERSON_ID\", suffixes=(\"_OFFER\", \"_BUYER\")).drop(\"PERSON_ID\", axis=1) # джойним к поставщикам и заказчикам их города\n",
    "    \n",
    "    merged_df = pd.merge(merged_df, lots, on=\"LOT_ID\", how=\"left\") # джойним лоты\n",
    "    # merged_df = pd.merge(merged_df, lots_prods, on=\"LOT_ID\", how=\"left\") # джойним продукты в лотах, там целый список с количествами\n",
    "    return merged_df\n",
    "\n",
    "merged_df = get_merged_data(df_train)"
   ],
   "metadata": {
    "collapsed": false,
    "ExecuteTime": {
     "end_time": "2025-04-11T20:29:43.623186Z",
     "start_time": "2025-04-11T20:29:43.267785Z"
    }
   },
   "id": "30ae2284e3885659",
   "execution_count": 4
  },
  {
   "cell_type": "code",
   "outputs": [
    {
     "data": {
      "text/plain": "21358"
     },
     "execution_count": 5,
     "metadata": {},
     "output_type": "execute_result"
    }
   ],
   "source": [
    "merged_df[\"OFFER_PERSON_ID\"].value_counts().index[0]"
   ],
   "metadata": {
    "collapsed": false,
    "ExecuteTime": {
     "end_time": "2025-04-11T20:29:43.639738Z",
     "start_time": "2025-04-11T20:29:43.624191Z"
    }
   },
   "id": "7108a26ab8b686a3",
   "execution_count": 5
  },
  {
   "cell_type": "markdown",
   "source": [
    "Отфильтруем странные контракты с установленными флагами"
   ],
   "metadata": {
    "collapsed": false
   },
   "id": "6bd3113be18d6c82"
  },
  {
   "cell_type": "code",
   "outputs": [
    {
     "data": {
      "text/plain": "        PERSON_ID          FINAL_PARENT_OKATO_NAME\n0             954             Владимирская область\n5             374                 Хабаровский край\n19            516                Самарская область\n26            736                   Алтайский край\n31            497               Республика Карелия\n...           ...                              ...\n539894       2152  Карачаево-Черкесская Республика\n540010       2947          Калининградская область\n540016      24802             Свердловская область\n540031      11281             Республика Татарстан\n540038       7328              Воронежская область\n\n[7035 rows x 2 columns]",
      "text/html": "<div>\n<style scoped>\n    .dataframe tbody tr th:only-of-type {\n        vertical-align: middle;\n    }\n\n    .dataframe tbody tr th {\n        vertical-align: top;\n    }\n\n    .dataframe thead th {\n        text-align: right;\n    }\n</style>\n<table border=\"1\" class=\"dataframe\">\n  <thead>\n    <tr style=\"text-align: right;\">\n      <th></th>\n      <th>PERSON_ID</th>\n      <th>FINAL_PARENT_OKATO_NAME</th>\n    </tr>\n  </thead>\n  <tbody>\n    <tr>\n      <th>0</th>\n      <td>954</td>\n      <td>Владимирская область</td>\n    </tr>\n    <tr>\n      <th>5</th>\n      <td>374</td>\n      <td>Хабаровский край</td>\n    </tr>\n    <tr>\n      <th>19</th>\n      <td>516</td>\n      <td>Самарская область</td>\n    </tr>\n    <tr>\n      <th>26</th>\n      <td>736</td>\n      <td>Алтайский край</td>\n    </tr>\n    <tr>\n      <th>31</th>\n      <td>497</td>\n      <td>Республика Карелия</td>\n    </tr>\n    <tr>\n      <th>...</th>\n      <td>...</td>\n      <td>...</td>\n    </tr>\n    <tr>\n      <th>539894</th>\n      <td>2152</td>\n      <td>Карачаево-Черкесская Республика</td>\n    </tr>\n    <tr>\n      <th>540010</th>\n      <td>2947</td>\n      <td>Калининградская область</td>\n    </tr>\n    <tr>\n      <th>540016</th>\n      <td>24802</td>\n      <td>Свердловская область</td>\n    </tr>\n    <tr>\n      <th>540031</th>\n      <td>11281</td>\n      <td>Республика Татарстан</td>\n    </tr>\n    <tr>\n      <th>540038</th>\n      <td>7328</td>\n      <td>Воронежская область</td>\n    </tr>\n  </tbody>\n</table>\n<p>7035 rows × 2 columns</p>\n</div>"
     },
     "execution_count": 6,
     "metadata": {},
     "output_type": "execute_result"
    }
   ],
   "source": [
    "pd.merge(merged_df[\"BUYER_PERSON_ID\"], persons, left_on=\"BUYER_PERSON_ID\", right_on=\"PERSON_ID\").drop(\n",
    "            [\"BUYER_PERSON_ID\"], axis=1).drop_duplicates(subset=[\"PERSON_ID\"], keep=\"first\")"
   ],
   "metadata": {
    "collapsed": false,
    "ExecuteTime": {
     "end_time": "2025-04-11T20:29:43.697828Z",
     "start_time": "2025-04-11T20:29:43.641253Z"
    }
   },
   "id": "5fde2336c7aed564",
   "execution_count": 6
  },
  {
   "cell_type": "code",
   "outputs": [],
   "source": [
    "from functools import reduce\n",
    "\n",
    "flags_list = [\"CANCELLED_FLAG\", \"INCONSISTENT_FLAG\", \"UNCONSIDERED_FLAG\", \"REJECT_FLAG\", \"CUSTOMER_REFUSAL_FLAG\"]\n",
    "\n",
    "any_flag_filter = reduce(lambda x, y : x | y, map(lambda f: merged_df[f] == 1, flags_list))\n",
    "\n",
    "merged_df = merged_df[~merged_df[\"IS_SELLER\"] | ~any_flag_filter]"
   ],
   "metadata": {
    "collapsed": false,
    "ExecuteTime": {
     "end_time": "2025-04-11T20:29:43.754509Z",
     "start_time": "2025-04-11T20:29:43.698834Z"
    }
   },
   "id": "9eeb875a681d6f8f",
   "execution_count": 7
  },
  {
   "cell_type": "markdown",
   "source": [
    "Посмотрим на распределение таргета"
   ],
   "metadata": {
    "collapsed": false
   },
   "id": "18f904070b56ddd5"
  },
  {
   "cell_type": "code",
   "outputs": [
    {
     "data": {
      "text/plain": "<Figure size 640x480 with 1 Axes>",
      "image/png": "[encoded data removed]"
     },
     "metadata": {},
     "output_type": "display_data"
    }
   ],
   "source": [
    "sns.barplot(merged_df[\"IS_SELLER\"].value_counts())\n",
    "plt.show()"
   ],
   "metadata": {
    "collapsed": false,
    "ExecuteTime": {
     "end_time": "2025-04-11T20:29:43.891044Z",
     "start_time": "2025-04-11T20:29:43.755456Z"
    }
   },
   "id": "4a6bf8e4d9625394",
   "execution_count": 8
  },
  {
   "cell_type": "markdown",
   "source": [
    "Для коллаборативной фильтрации достаточно иметь только матрицу: Заказчик - поставщик - факт заключения контракта"
   ],
   "metadata": {
    "collapsed": false
   },
   "id": "e2c9fd376e4e71e2"
  },
  {
   "cell_type": "markdown",
   "source": [
    "## 1. Таргет - факт заключения контракта"
   ],
   "metadata": {
    "collapsed": false
   },
   "id": "98f170825fc85db6"
  },
  {
   "cell_type": "markdown",
   "source": [
    "### Подготовим данные"
   ],
   "metadata": {
    "collapsed": false
   },
   "id": "f3cc93bd560b876"
  },
  {
   "cell_type": "markdown",
   "source": [
    "Мы проставим 1, если поставщик выиграл у заказчика хотя бы один лот\n"
   ],
   "metadata": {
    "collapsed": false
   },
   "id": "90d7e7f45d494782"
  },
  {
   "cell_type": "code",
   "outputs": [
    {
     "data": {
      "text/plain": "   user_id  item_id  weight  datetime\n0        8       12       1        -1\n1        8      214       0        -1\n2        8      725       1        -1\n3        8      762       0        -1\n4        8      918       0        -1",
      "text/html": "<div>\n<style scoped>\n    .dataframe tbody tr th:only-of-type {\n        vertical-align: middle;\n    }\n\n    .dataframe tbody tr th {\n        vertical-align: top;\n    }\n\n    .dataframe thead th {\n        text-align: right;\n    }\n</style>\n<table border=\"1\" class=\"dataframe\">\n  <thead>\n    <tr style=\"text-align: right;\">\n      <th></th>\n      <th>user_id</th>\n      <th>item_id</th>\n      <th>weight</th>\n      <th>datetime</th>\n    </tr>\n  </thead>\n  <tbody>\n    <tr>\n      <th>0</th>\n      <td>8</td>\n      <td>12</td>\n      <td>1</td>\n      <td>-1</td>\n    </tr>\n    <tr>\n      <th>1</th>\n      <td>8</td>\n      <td>214</td>\n      <td>0</td>\n      <td>-1</td>\n    </tr>\n    <tr>\n      <th>2</th>\n      <td>8</td>\n      <td>725</td>\n      <td>1</td>\n      <td>-1</td>\n    </tr>\n    <tr>\n      <th>3</th>\n      <td>8</td>\n      <td>762</td>\n      <td>0</td>\n      <td>-1</td>\n    </tr>\n    <tr>\n      <th>4</th>\n      <td>8</td>\n      <td>918</td>\n      <td>0</td>\n      <td>-1</td>\n    </tr>\n  </tbody>\n</table>\n</div>"
     },
     "execution_count": 9,
     "metadata": {},
     "output_type": "execute_result"
    }
   ],
   "source": [
    "from rectools import Columns\n",
    "\n",
    "base_columns = [\"OFFER_PERSON_ID\",\"BUYER_PERSON_ID\", \"IS_SELLER\"]\n",
    "\n",
    "df_all = merged_df[base_columns]\n",
    "df_all = df_all[df_all[\"OFFER_PERSON_ID\"] != -1]\n",
    "df_all = df_all.rename(columns={\n",
    "    \"BUYER_PERSON_ID\": Columns.User,\n",
    "    \"OFFER_PERSON_ID\": Columns.Item,\n",
    "    \"IS_SELLER\": Columns.Weight\n",
    "})\n",
    "df_all[Columns.Datetime] = -1\n",
    "\n",
    "df = df_all.groupby([Columns.User, Columns.Item]).max().reset_index()\n",
    "df.head()"
   ],
   "metadata": {
    "collapsed": false,
    "ExecuteTime": {
     "end_time": "2025-04-11T20:29:43.985525Z",
     "start_time": "2025-04-11T20:29:43.891741Z"
    }
   },
   "id": "6aab371d76150561",
   "execution_count": 9
  },
  {
   "cell_type": "markdown",
   "source": [
    "Посмотрим на распределение числа интеракиций заказчиков"
   ],
   "metadata": {
    "collapsed": false
   },
   "id": "e36a44f792865206"
  },
  {
   "cell_type": "code",
   "outputs": [
    {
     "data": {
      "text/plain": "<Figure size 400x400 with 1 Axes>",
      "image/png": "[encoded data removed]"
     },
     "metadata": {},
     "output_type": "display_data"
    }
   ],
   "source": [
    "interactions_count = df.groupby(Columns.User)[Columns.Item].count()\n",
    "\n",
    "fig, ax = plt.subplots(figsize=(4,4))\n",
    "plt.hist(interactions_count, bins=60, log=True)\n",
    "plt.show()"
   ],
   "metadata": {
    "collapsed": false,
    "ExecuteTime": {
     "end_time": "2025-04-11T20:29:44.189538Z",
     "start_time": "2025-04-11T20:29:43.985525Z"
    }
   },
   "id": "cef1f0dc70491d73",
   "execution_count": 10
  },
  {
   "cell_type": "code",
   "outputs": [
    {
     "data": {
      "text/plain": "count    7035.000000\nmean       29.491542\nstd        32.743418\nmin         4.000000\n25%         7.000000\n50%        17.000000\n75%        39.000000\nmax       323.000000\nName: item_id, dtype: float64"
     },
     "execution_count": 11,
     "metadata": {},
     "output_type": "execute_result"
    }
   ],
   "source": [
    "interactions_count.describe()"
   ],
   "metadata": {
    "collapsed": false,
    "ExecuteTime": {
     "end_time": "2025-04-11T20:29:44.196446Z",
     "start_time": "2025-04-11T20:29:44.190584Z"
    }
   },
   "id": "ab1647fa20ae47cf",
   "execution_count": 11
  },
  {
   "cell_type": "markdown",
   "source": [
    "Видим, что есть заказчики с большим числом интеракций с разными поставщиками, но при этом подавляющее большинство среди них взаимодействовало с совсем небольшим количеством поставщиков.\n",
    "\n",
    "Оценим распределение на общее число интеракций, а не только с уникальными поставщиками."
   ],
   "metadata": {
    "collapsed": false
   },
   "id": "d9ead0ca6311b930"
  },
  {
   "cell_type": "code",
   "outputs": [
    {
     "data": {
      "text/plain": "[]"
     },
     "execution_count": 12,
     "metadata": {},
     "output_type": "execute_result"
    },
    {
     "data": {
      "text/plain": "<Figure size 640x480 with 1 Axes>",
      "image/png": "[encoded data removed]"
     },
     "metadata": {},
     "output_type": "display_data"
    }
   ],
   "source": [
    "interactions_count_all = df_all.groupby(Columns.User)[Columns.Item].count()\n",
    "\n",
    "plt.hist(interactions_count_all, bins=60, log=True)\n",
    "plt.plot()"
   ],
   "metadata": {
    "collapsed": false,
    "ExecuteTime": {
     "end_time": "2025-04-11T20:29:44.410554Z",
     "start_time": "2025-04-11T20:29:44.197555Z"
    }
   },
   "id": "8f8a444cb85cfe62",
   "execution_count": 12
  },
  {
   "cell_type": "code",
   "outputs": [
    {
     "data": {
      "text/plain": "count    7035.000000\nmean       76.756930\nstd       160.121899\nmin         4.000000\n25%         8.500000\n50%        24.000000\n75%        75.000000\nmax      5160.000000\nName: item_id, dtype: float64"
     },
     "execution_count": 13,
     "metadata": {},
     "output_type": "execute_result"
    }
   ],
   "source": [
    "interactions_count_all.describe()"
   ],
   "metadata": {
    "collapsed": false,
    "ExecuteTime": {
     "end_time": "2025-04-11T20:29:44.416266Z",
     "start_time": "2025-04-11T20:29:44.410554Z"
    }
   },
   "id": "4a1bf5c4592fd4e0",
   "execution_count": 13
  },
  {
   "cell_type": "markdown",
   "source": [
    "На общее число интеракций у нас вообще гигантский разброс.\n",
    "Кажется, это связано с тем, что на рынке есть игроки совершенно разного масштаба: крупные компании делают заказы постоянно."
   ],
   "metadata": {
    "collapsed": false
   },
   "id": "43f735295b48d611"
  },
  {
   "cell_type": "markdown",
   "source": [
    "Определим холодных юзеров. Мы сможем сделать по ним срез данных.\n",
    "С учетом квантиля в 25% на 8.5 будем считать юзера холодным, если у него <= 8 интеракций"
   ],
   "metadata": {
    "collapsed": false
   },
   "id": "a6fe452f7b84bf79"
  },
  {
   "cell_type": "code",
   "outputs": [],
   "source": [
    "cold_user_threshold = 8\n",
    "df_all = pd.merge(df_all, interactions_count_all <= cold_user_threshold, left_on=Columns.User, right_on=Columns.User, how=\"left\").rename(columns={Columns.Item + \"_y\": \"is_cold\", Columns.Item + \"_x\": Columns.Item})\n",
    "\n",
    "cold_user_threshold_unique = 6\n",
    "df = pd.merge(df, interactions_count <= cold_user_threshold_unique, left_on=Columns.User, right_on=Columns.User, how=\"left\").rename(columns={Columns.Item + \"_y\": \"is_cold\", Columns.Item + \"_x\": Columns.Item})"
   ],
   "metadata": {
    "collapsed": false,
    "ExecuteTime": {
     "end_time": "2025-04-11T20:29:44.469530Z",
     "start_time": "2025-04-11T20:29:44.417312Z"
    }
   },
   "id": "d64e2ec3b248702c",
   "execution_count": 14
  },
  {
   "cell_type": "markdown",
   "source": [
    "Мы избавляемся от повторений интеракций."
   ],
   "metadata": {
    "collapsed": false
   },
   "id": "f4bf2e1c0281dc20"
  },
  {
   "cell_type": "code",
   "outputs": [],
   "source": [
    "df_train, df_test = train_test_split(df, train_size=0.8, random_state=72) \n",
    "\n",
    "df_test = df_test[df_test[Columns.User].isin(df_train[Columns.User])]"
   ],
   "metadata": {
    "collapsed": false,
    "ExecuteTime": {
     "end_time": "2025-04-11T20:29:44.484200Z",
     "start_time": "2025-04-11T20:29:44.469530Z"
    }
   },
   "id": "2741b66e741e698",
   "execution_count": 15
  },
  {
   "cell_type": "markdown",
   "source": [
    "### Модель Popular\n",
    "\n",
    "Будем считать поставщика популярным, если к нему обращаются много разных заказчиков."
   ],
   "metadata": {
    "collapsed": false
   },
   "id": "10537e9047c2f7d0"
  },
  {
   "cell_type": "code",
   "outputs": [
    {
     "data": {
      "text/plain": "<rectools.models.popular.PopularModel at 0x26a8246c1a0>"
     },
     "execution_count": 16,
     "metadata": {},
     "output_type": "execute_result"
    }
   ],
   "source": [
    "from rectools.models import PopularModel\n",
    "from rectools.dataset import Dataset\n",
    "\n",
    "model = PopularModel(\n",
    "    popularity=\"n_users\", # mean_weight, sum_weight, n_interactions\n",
    "    verbose=1\n",
    ")\n",
    "# количество взаимодействий не равно количеству пользователей, так что один юзер мог взаимодействовать несколько раз с разными эффектами\n",
    "model.fit(Dataset.construct(df_train))"
   ],
   "metadata": {
    "collapsed": false,
    "ExecuteTime": {
     "end_time": "2025-04-11T20:29:44.689721Z",
     "start_time": "2025-04-11T20:29:44.485261Z"
    }
   },
   "id": "335b4f80fc65029c",
   "execution_count": 16
  },
  {
   "cell_type": "markdown",
   "source": [
    "#### Оценка качества"
   ],
   "metadata": {
    "collapsed": false
   },
   "id": "c5e993485eebb964"
  },
  {
   "cell_type": "markdown",
   "source": [
    "Метрики ранжирования:\n",
    "1. Precision@k, MeanAveragePrecision, nDCG\n",
    "\n",
    "Метрики рекомендаций:\n",
    "1. ILS (Diversity), Serendipity\n",
    "\n",
    "К сожалению, в рамках курсача невозможно оценить бизнес-метрики"
   ],
   "metadata": {
    "collapsed": false
   },
   "id": "4175b8ee4d1bc2e5"
  },
  {
   "cell_type": "markdown",
   "source": [
    "##### 1. Метрики ранжирования"
   ],
   "metadata": {
    "collapsed": false
   },
   "id": "5aa45c99ec229046"
  },
  {
   "cell_type": "code",
   "outputs": [
    {
     "data": {
      "text/plain": "  0%|          | 0/7035 [00:00<?, ?it/s]",
      "application/vnd.jupyter.widget-view+json": {
       "version_major": 2,
       "version_minor": 0,
       "model_id": "80b4576a97db4af48b3de721e9ed2499"
      }
     },
     "metadata": {},
     "output_type": "display_data"
    },
    {
     "data": {
      "text/plain": "       user_id  item_id   score  rank\n0          836    21358  1902.0     1\n1          836     1310  1727.0     2\n2          836     5284  1611.0     3\n3          836     1112  1185.0     4\n4          836     1413  1123.0     5\n...        ...      ...     ...   ...\n70345      900    21370  1031.0     6\n70346      900     1575   968.0     7\n70347      900     3872   931.0     8\n70348      900     1612   926.0     9\n70349      900     3550   895.0    10\n\n[70350 rows x 4 columns]",
      "text/html": "<div>\n<style scoped>\n    .dataframe tbody tr th:only-of-type {\n        vertical-align: middle;\n    }\n\n    .dataframe tbody tr th {\n        vertical-align: top;\n    }\n\n    .dataframe thead th {\n        text-align: right;\n    }\n</style>\n<table border=\"1\" class=\"dataframe\">\n  <thead>\n    <tr style=\"text-align: right;\">\n      <th></th>\n      <th>user_id</th>\n      <th>item_id</th>\n      <th>score</th>\n      <th>rank</th>\n    </tr>\n  </thead>\n  <tbody>\n    <tr>\n      <th>0</th>\n      <td>836</td>\n      <td>21358</td>\n      <td>1902.0</td>\n      <td>1</td>\n    </tr>\n    <tr>\n      <th>1</th>\n      <td>836</td>\n      <td>1310</td>\n      <td>1727.0</td>\n      <td>2</td>\n    </tr>\n    <tr>\n      <th>2</th>\n      <td>836</td>\n      <td>5284</td>\n      <td>1611.0</td>\n      <td>3</td>\n    </tr>\n    <tr>\n      <th>3</th>\n      <td>836</td>\n      <td>1112</td>\n      <td>1185.0</td>\n      <td>4</td>\n    </tr>\n    <tr>\n      <th>4</th>\n      <td>836</td>\n      <td>1413</td>\n      <td>1123.0</td>\n      <td>5</td>\n    </tr>\n    <tr>\n      <th>...</th>\n      <td>...</td>\n      <td>...</td>\n      <td>...</td>\n      <td>...</td>\n    </tr>\n    <tr>\n      <th>70345</th>\n      <td>900</td>\n      <td>21370</td>\n      <td>1031.0</td>\n      <td>6</td>\n    </tr>\n    <tr>\n      <th>70346</th>\n      <td>900</td>\n      <td>1575</td>\n      <td>968.0</td>\n      <td>7</td>\n    </tr>\n    <tr>\n      <th>70347</th>\n      <td>900</td>\n      <td>3872</td>\n      <td>931.0</td>\n      <td>8</td>\n    </tr>\n    <tr>\n      <th>70348</th>\n      <td>900</td>\n      <td>1612</td>\n      <td>926.0</td>\n      <td>9</td>\n    </tr>\n    <tr>\n      <th>70349</th>\n      <td>900</td>\n      <td>3550</td>\n      <td>895.0</td>\n      <td>10</td>\n    </tr>\n  </tbody>\n</table>\n<p>70350 rows × 4 columns</p>\n</div>"
     },
     "execution_count": 17,
     "metadata": {},
     "output_type": "execute_result"
    }
   ],
   "source": [
    "recs = model.recommend(\n",
    "    users=df_train[Columns.User].unique(),\n",
    "    dataset=Dataset.construct(df_train),\n",
    "    k=10,\n",
    "    filter_viewed=False\n",
    ")\n",
    "recs"
   ],
   "metadata": {
    "collapsed": false,
    "ExecuteTime": {
     "end_time": "2025-04-11T20:29:44.745650Z",
     "start_time": "2025-04-11T20:29:44.689721Z"
    }
   },
   "id": "fe05dcfaf778cc9b",
   "execution_count": 17
  },
  {
   "cell_type": "code",
   "outputs": [
    {
     "data": {
      "text/plain": "8"
     },
     "execution_count": 18,
     "metadata": {},
     "output_type": "execute_result"
    }
   ],
   "source": [
    "df_train[Columns.User][0]"
   ],
   "metadata": {
    "collapsed": false,
    "ExecuteTime": {
     "end_time": "2025-04-11T20:29:44.753340Z",
     "start_time": "2025-04-11T20:29:44.746211Z"
    }
   },
   "id": "8327f2c9cf4358f2",
   "execution_count": 18
  },
  {
   "cell_type": "code",
   "outputs": [
    {
     "data": {
      "text/plain": "  0%|          | 0/1 [00:00<?, ?it/s]",
      "application/vnd.jupyter.widget-view+json": {
       "version_major": 2,
       "version_minor": 0,
       "model_id": "493b4aad91a14b268fba05d009523100"
      }
     },
     "metadata": {},
     "output_type": "display_data"
    },
    {
     "data": {
      "text/plain": "   user_id  item_id   score  rank\n0        8    21358  1902.0     1\n1        8     1310  1727.0     2\n2        8    21370  1031.0     3\n3        8     1575   968.0     4\n4        8     1612   926.0     5\n5        8     3550   895.0     6\n6        8     1093   879.0     7\n7        8     3792   817.0     8\n8        8     5565   766.0     9\n9        8    11666   657.0    10",
      "text/html": "<div>\n<style scoped>\n    .dataframe tbody tr th:only-of-type {\n        vertical-align: middle;\n    }\n\n    .dataframe tbody tr th {\n        vertical-align: top;\n    }\n\n    .dataframe thead th {\n        text-align: right;\n    }\n</style>\n<table border=\"1\" class=\"dataframe\">\n  <thead>\n    <tr style=\"text-align: right;\">\n      <th></th>\n      <th>user_id</th>\n      <th>item_id</th>\n      <th>score</th>\n      <th>rank</th>\n    </tr>\n  </thead>\n  <tbody>\n    <tr>\n      <th>0</th>\n      <td>8</td>\n      <td>21358</td>\n      <td>1902.0</td>\n      <td>1</td>\n    </tr>\n    <tr>\n      <th>1</th>\n      <td>8</td>\n      <td>1310</td>\n      <td>1727.0</td>\n      <td>2</td>\n    </tr>\n    <tr>\n      <th>2</th>\n      <td>8</td>\n      <td>21370</td>\n      <td>1031.0</td>\n      <td>3</td>\n    </tr>\n    <tr>\n      <th>3</th>\n      <td>8</td>\n      <td>1575</td>\n      <td>968.0</td>\n      <td>4</td>\n    </tr>\n    <tr>\n      <th>4</th>\n      <td>8</td>\n      <td>1612</td>\n      <td>926.0</td>\n      <td>5</td>\n    </tr>\n    <tr>\n      <th>5</th>\n      <td>8</td>\n      <td>3550</td>\n      <td>895.0</td>\n      <td>6</td>\n    </tr>\n    <tr>\n      <th>6</th>\n      <td>8</td>\n      <td>1093</td>\n      <td>879.0</td>\n      <td>7</td>\n    </tr>\n    <tr>\n      <th>7</th>\n      <td>8</td>\n      <td>3792</td>\n      <td>817.0</td>\n      <td>8</td>\n    </tr>\n    <tr>\n      <th>8</th>\n      <td>8</td>\n      <td>5565</td>\n      <td>766.0</td>\n      <td>9</td>\n    </tr>\n    <tr>\n      <th>9</th>\n      <td>8</td>\n      <td>11666</td>\n      <td>657.0</td>\n      <td>10</td>\n    </tr>\n  </tbody>\n</table>\n</div>"
     },
     "execution_count": 19,
     "metadata": {},
     "output_type": "execute_result"
    }
   ],
   "source": [
    "model.recommend(\n",
    "    users=[df_train[Columns.User][0]],\n",
    "    dataset=Dataset.construct(df_train),\n",
    "    k=10,\n",
    "    filter_viewed=True\n",
    ")"
   ],
   "metadata": {
    "collapsed": false,
    "ExecuteTime": {
     "end_time": "2025-04-11T20:29:44.783452Z",
     "start_time": "2025-04-11T20:29:44.754352Z"
    }
   },
   "id": "75773f91f741b8c8",
   "execution_count": 19
  },
  {
   "cell_type": "code",
   "outputs": [],
   "source": [
    "def score(metric, recs, df):\n",
    "    cold_users = df[Columns.User][df[\"is_cold\"]]\n",
    "    cold_users_filter = recs[Columns.User].isin(cold_users)\n",
    "    \n",
    "    res = {}\n",
    "    res[\"cold\"] = metric.calc(recs[cold_users_filter], df[df[\"is_cold\"]])\n",
    "    res[\"hot\"] = metric.calc(recs[~cold_users_filter], df[~df[\"is_cold\"]])\n",
    "    res[\"all\"] = metric.calc(recs, df)\n",
    "    return res"
   ],
   "metadata": {
    "collapsed": false,
    "ExecuteTime": {
     "end_time": "2025-04-11T20:29:44.787970Z",
     "start_time": "2025-04-11T20:29:44.784459Z"
    }
   },
   "id": "9d04ccff363108f",
   "execution_count": 20
  },
  {
   "cell_type": "markdown",
   "source": [
    "Установим k=1000, и теперь вручную переберем тип нашей рекомендательной системы:"
   ],
   "metadata": {
    "collapsed": false
   },
   "id": "edc7e8409b8522d7"
  },
  {
   "cell_type": "code",
   "outputs": [
    {
     "ename": "NameError",
     "evalue": "name 'MAP' is not defined",
     "output_type": "error",
     "traceback": [
      "\u001B[31m---------------------------------------------------------------------------\u001B[39m",
      "\u001B[31mNameError\u001B[39m                                 Traceback (most recent call last)",
      "\u001B[36mCell\u001B[39m\u001B[36m \u001B[39m\u001B[32mIn[21]\u001B[39m\u001B[32m, line 16\u001B[39m\n\u001B[32m      8\u001B[39m model.fit(Dataset.construct(df_train))\n\u001B[32m      9\u001B[39m recs = model.recommend(\n\u001B[32m     10\u001B[39m     users=df_test[Columns.User].unique(),\n\u001B[32m     11\u001B[39m     dataset=Dataset.construct(df_test),\n\u001B[32m     12\u001B[39m     k=k,\n\u001B[32m     13\u001B[39m     filter_viewed=\u001B[38;5;28;01mTrue\u001B[39;00m\n\u001B[32m     14\u001B[39m )\n\u001B[32m     15\u001B[39m scores = pd.DataFrame([\n\u001B[32m---> \u001B[39m\u001B[32m16\u001B[39m     score(\u001B[43mMAP\u001B[49m(k=k), recs, df_test),\n\u001B[32m     17\u001B[39m     score(NDCG(k=k), recs, df_test)\n\u001B[32m     18\u001B[39m ], index=[\u001B[33m\"\u001B[39m\u001B[33mMAP\u001B[39m\u001B[33m\"\u001B[39m, \u001B[33m\"\u001B[39m\u001B[33mNDCG\u001B[39m\u001B[33m\"\u001B[39m])\n\u001B[32m     19\u001B[39m \u001B[38;5;28mprint\u001B[39m(\u001B[33mf\u001B[39m\u001B[33m\"\u001B[39m\u001B[38;5;132;01m{\u001B[39;00mmodel_type\u001B[38;5;132;01m}\u001B[39;00m\u001B[33m:\u001B[39m\u001B[33m\"\u001B[39m)\n\u001B[32m     20\u001B[39m \u001B[38;5;28mprint\u001B[39m(scores)\n",
      "\u001B[31mNameError\u001B[39m: name 'MAP' is not defined"
     ]
    }
   ],
   "source": [
    "for model_type in [\"n_users\", \"n_interactions\"]:\n",
    "    k=1000\n",
    "    \n",
    "    model = PopularModel(\n",
    "        popularity=model_type,\n",
    "        verbose=False\n",
    "    )\n",
    "    model.fit(Dataset.construct(df_train))\n",
    "    recs = model.recommend(\n",
    "        users=df_test[Columns.User].unique(),\n",
    "        dataset=Dataset.construct(df_test),\n",
    "        k=k,\n",
    "        filter_viewed=True\n",
    "    )\n",
    "    scores = pd.DataFrame([\n",
    "        score(MAP(k=k), recs, df_test),\n",
    "        score(NDCG(k=k), recs, df_test)\n",
    "    ], index=[\"MAP\", \"NDCG\"])\n",
    "    print(f\"{model_type}:\")\n",
    "    print(scores)"
   ],
   "metadata": {
    "collapsed": false,
    "ExecuteTime": {
     "end_time": "2025-04-11T20:29:47.132258Z",
     "start_time": "2025-04-11T20:29:44.788980Z"
    }
   },
   "id": "6e553f5e0e5d62e4",
   "execution_count": 21
  },
  {
   "cell_type": "markdown",
   "source": [
    "##### 2. Метрики рекомендаций"
   ],
   "metadata": {
    "collapsed": false
   },
   "id": "50c4ccd1d2ed9d24"
  },
  {
   "cell_type": "code",
   "outputs": [],
   "source": [
    "from rectools.metrics import calc_metrics, Recall, Precision\n",
    "from rectools.metrics.novelty import NoveltyMetric\n",
    "from rectools.metrics.serendipity import SerendipityMetric"
   ],
   "metadata": {
    "collapsed": false,
    "ExecuteTime": {
     "start_time": "2025-04-11T20:29:47.133312Z"
    }
   },
   "id": "b671ce60fefe4196",
   "execution_count": null
  },
  {
   "cell_type": "code",
   "outputs": [],
   "source": [
    "df_train[Columns.User].nunique(), df_test[Columns.User].nunique()"
   ],
   "metadata": {
    "collapsed": false,
    "ExecuteTime": {
     "start_time": "2025-04-11T20:29:47.133312Z"
    }
   },
   "id": "34b78e87aa667930",
   "execution_count": null
  },
  {
   "cell_type": "code",
   "outputs": [],
   "source": [
    "def calc_metrics_(candidates_df, train_interactions, test_interactions, rank_col: str, k: int):\n",
    "    \"\"\"\n",
    "    :param candidates_df: набор предсказаний на трейне вместе с рангами для всех моделей в сравнении сразу (поджойненный)\n",
    "    :param train_interactions: датасет интеракций до показа рекомендаций\n",
    "    :param test_interactions: датасет интеракций после показа рекомендаций\n",
    "    :param rank_col: колонка с рангом в зависимости от модели\n",
    "    :param k: число рекомендаций\n",
    "    :return: \n",
    "    \"\"\"\n",
    "    metrics = {\n",
    "        f\"ndcg@{k}\": NDCG(k=k),\n",
    "        f\"map@{k}\": MAP(k=k),\n",
    "        f\"precision@{k}\": Precision(k=k),\n",
    "        f\"recall@{k}\": Recall(k=k),\n",
    "        f\"novelty@{k}\": NoveltyMetric(k=k),\n",
    "        f\"serendipity@{k}\": SerendipityMetric(k=k),\n",
    "    }\n",
    "    \n",
    "    test_users = test_interactions[Columns.User].unique()\n",
    "    items = pd.concat([test_interactions[Columns.Item], train_interactions[Columns.Item]]).unique()\n",
    "    \n",
    "    return calc_metrics(\n",
    "        metrics=metrics,\n",
    "        reco=(\n",
    "            candidates_df.rename(columns={rank_col: Columns.Rank})[\n",
    "                [Columns.User, Columns.Item, Columns.Rank]\n",
    "            ][candidates_df[Columns.User].isin(test_users)]\n",
    "        ),\n",
    "        interactions=(\n",
    "            test_interactions[[Columns.User, Columns.Item, Columns.Datetime, Columns.Weight]][\n",
    "                test_interactions[Columns.User].isin(test_users)\n",
    "            ]\n",
    "        ),\n",
    "        prev_interactions=(\n",
    "            train_interactions[\n",
    "                [Columns.User, Columns.Item, Columns.Datetime, Columns.Weight]\n",
    "            ][train_interactions[Columns.User].isin(test_users)]\n",
    "        ),\n",
    "        catalog=items,\n",
    "    )\n",
    "\n",
    "calc_metrics_(recs, df_train, df_test, \"rank\", 10)"
   ],
   "metadata": {
    "collapsed": false,
    "ExecuteTime": {
     "start_time": "2025-04-11T20:29:47.134266Z"
    }
   },
   "id": "39e93a320c6d33e4",
   "execution_count": null
  },
  {
   "cell_type": "markdown",
   "source": [
    "Таковы наши метрики для модели популярных)"
   ],
   "metadata": {
    "collapsed": false
   },
   "id": "a39e04b830150c69"
  },
  {
   "cell_type": "markdown",
   "source": [
    "### ALS"
   ],
   "metadata": {
    "collapsed": false
   },
   "id": "af4923b2e3714714"
  },
  {
   "cell_type": "markdown",
   "source": [
    "Создадим модель для Implicit ALS"
   ],
   "metadata": {
    "collapsed": false
   },
   "id": "412bd15aca54e3b1"
  },
  {
   "cell_type": "code",
   "outputs": [],
   "source": [
    "from rectools.models import ImplicitALSWrapperModel\n",
    "from implicit.als import AlternatingLeastSquares\n",
    "\n",
    "os.environ[\"OPENBLAS_NUM_THREADS\"] = \"1\"\n",
    "base_model = AlternatingLeastSquares(\n",
    "    factors=100,\n",
    "    regularization=0.01,\n",
    "    alpha=1.0,\n",
    "    calculate_training_loss=True\n",
    ")\n",
    "implicit_als_model = ImplicitALSWrapperModel(base_model, verbose=1)"
   ],
   "metadata": {
    "collapsed": false,
    "ExecuteTime": {
     "start_time": "2025-04-11T20:29:47.134266Z"
    }
   },
   "id": "3bb1b5eb971feb3d",
   "execution_count": null
  },
  {
   "cell_type": "markdown",
   "source": [
    "В данных в колонке Weight я передаю сырые взаимодействия Rui.\n",
    "Pui рассчитывается автоматически: \n",
    "- Pui = 1, если Rui > 0\n",
    "- Pui = 0 иначе\n",
    "\n",
    "Далее Cui = 1 + alpha * Pui"
   ],
   "metadata": {
    "collapsed": false
   },
   "id": "618b9fea462c12ce"
  },
  {
   "cell_type": "code",
   "outputs": [],
   "source": [
    "implicit_als_model.fit(\n",
    "    Dataset.construct(df_train)\n",
    ")"
   ],
   "metadata": {
    "collapsed": false,
    "ExecuteTime": {
     "start_time": "2025-04-11T20:29:47.135266Z"
    }
   },
   "id": "7dd9a67ce5bb434c",
   "execution_count": null
  },
  {
   "cell_type": "code",
   "outputs": [],
   "source": [
    "als_recs = implicit_als_model.recommend(\n",
    "    users=df_train[Columns.User].unique(),\n",
    "    dataset=Dataset.construct(df_train),\n",
    "    k=10,\n",
    "    filter_viewed=True\n",
    ")"
   ],
   "metadata": {
    "collapsed": false
   },
   "id": "75b5c43f61f9021c",
   "execution_count": null
  },
  {
   "cell_type": "code",
   "outputs": [],
   "source": [
    "result_metrics = {}\n",
    "result_metrics[\"top_pop\"] = calc_metrics_(\n",
    "    recs,\n",
    "    df_train, \n",
    "    df_test, \n",
    "    Columns.Rank,\n",
    "    10\n",
    ")\n",
    "result_metrics[\"als\"] = calc_metrics_(\n",
    "    als_recs,\n",
    "    df_train, \n",
    "    df_test, \n",
    "    Columns.Rank,\n",
    "    10\n",
    ")\n",
    "pd.DataFrame(result_metrics)"
   ],
   "metadata": {
    "collapsed": false,
    "ExecuteTime": {
     "start_time": "2025-04-11T20:29:47.136265Z"
    }
   },
   "id": "97111a40a0776ff6",
   "execution_count": null
  },
  {
   "cell_type": "markdown",
   "source": [
    "По сводной таблице видим, что ALS значительно прокачал нашу модель. \n",
    "Остановимся пока на этом и выкатим код ALS в прод."
   ],
   "metadata": {
    "collapsed": false
   },
   "id": "eee9542edfacb4df"
  }
 ],
 "metadata": {
  "kernelspec": {
   "display_name": "Python 3",
   "language": "python",
   "name": "python3"
  },
  "language_info": {
   "codemirror_mode": {
    "name": "ipython",
    "version": 2
   },
   "file_extension": ".py",
   "mimetype": "text/x-python",
   "name": "python",
   "nbconvert_exporter": "python",
   "pygments_lexer": "ipython2",
   "version": "2.7.6"
  }
 },
 "nbformat": 4,
 "nbformat_minor": 5
}
